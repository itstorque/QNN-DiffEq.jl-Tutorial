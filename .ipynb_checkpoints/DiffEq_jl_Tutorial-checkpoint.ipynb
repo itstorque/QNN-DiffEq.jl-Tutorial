{
 "cells": [
  {
   "cell_type": "markdown",
   "metadata": {
    "colab_type": "text",
    "id": "view-in-github"
   },
   "source": [
    "<a href=\"https://colab.research.google.com/github/tareqdandachi/QNN-DiffEq.jl-Tutorial/blob/main/QNN_DiffEq_jl_Tutorial.ipynb\" target=\"_parent\"><img src=\"https://colab.research.google.com/assets/colab-badge.svg\" alt=\"Open In Colab\"/></a>"
   ]
  },
  {
   "cell_type": "markdown",
   "metadata": {
    "id": "oap0eJ3vwDJ1"
   },
   "source": [
    "### QNN Tutorial\n",
    "# Solving Differential Equations Efficiently in Julia using `DifferentialEquations.jl`\n",
    "\n",
    "In this tutorial, we will be simulating an RCSJ model of a superconducting Josephson Junction using Julia and applying different levels of optimization.\n",
    "\n",
    "If you have your an already intalled interactive notebook with Julia, feel free to use it and skip to the Tutorial section (you might want to check that you have all the packages listed in the setup section's intro). Otherwise, if you are using Google Colab, follow the \"Setting Up Julia On Colab\" section."
   ]
  },
  {
   "cell_type": "markdown",
   "metadata": {
    "id": "144MSSanTpF1"
   },
   "source": [
    "# Notes on indexing\n",
    "\n",
    "Julia uses one indexing"
   ]
  },
  {
   "cell_type": "markdown",
   "metadata": {
    "id": "tQ1r1bbb0yBv"
   },
   "source": [
    "#  _Setting Up Julia On Colab_\n",
    "\n",
    "To follow with this tutorial, you need to use a julia kernel. If you are using Google Colab, which defaults to python, follow the setup instructions below which should take \\<15 mins to setup julia."
   ]
  },
  {
   "cell_type": "markdown",
   "metadata": {
    "id": "8z4q8d5IzWT2"
   },
   "source": [
    "We will be using the following packages for this tutorial:\n",
    "- BenchmarkTools\n",
    "- Plots\n",
    "- DifferentialEquations\n",
    "- LinearAlgebra\n",
    "- StaticKernels\n",
    "- LoopVectorization"
   ]
  },
  {
   "cell_type": "markdown",
   "metadata": {
    "id": "fjCGwDKcvGS3"
   },
   "source": [
    "### Step 1: Run this following cell"
   ]
  },
  {
   "cell_type": "code",
   "execution_count": null,
   "metadata": {
    "colab": {
     "base_uri": "https://localhost:8080/"
    },
    "id": "GIeFXS0F0zww",
    "outputId": "f26583fc-e0ac-44f1-a7a0-0c3f6d3bf4e9"
   },
   "outputs": [
    {
     "name": "stdout",
     "output_type": "stream",
     "text": [
      "Installing Julia 1.7.1 on the current Colab Runtime...\n",
      "2022-07-07 18:56:44 URL:https://storage.googleapis.com/julialang2/bin/linux/x64/1.7/julia-1.7.1-linux-x86_64.tar.gz [123374573/123374573] -> \"/tmp/julia.tar.gz\" [1]\n",
      "Installing Julia package IJulia...\n",
      "Installing Julia package BenchmarkTools...\n",
      "Installing Julia package Plots...\n",
      "Installing Julia package DifferentialEquations...\n"
     ]
    }
   ],
   "source": [
    "%%shell\n",
    "set -e\n",
    "\n",
    "#---------------------------------------------------#\n",
    "JULIA_VERSION=\"1.7.1\" # any version ≥ 0.7.0\n",
    "JULIA_PACKAGES=\"IJulia BenchmarkTools Plots DifferentialEquations LinearAlgebra StaticKernels LoopVectorization\"\n",
    "JULIA_PACKAGES_IF_GPU=\"CUDA\" # or CuArrays for older Julia versions\n",
    "JULIA_NUM_THREADS=2\n",
    "#---------------------------------------------------#\n",
    "\n",
    "if [ -n \"$COLAB_GPU\" ] && [ -z `which julia` ]; then\n",
    "  # Install Julia\n",
    "  JULIA_VER=`cut -d '.' -f -2 <<< \"$JULIA_VERSION\"`\n",
    "  echo \"Installing Julia $JULIA_VERSION on the current Colab Runtime...\"\n",
    "  BASE_URL=\"https://julialang-s3.julialang.org/bin/linux/x64\"\n",
    "  URL=\"$BASE_URL/$JULIA_VER/julia-$JULIA_VERSION-linux-x86_64.tar.gz\"\n",
    "  wget -nv $URL -O /tmp/julia.tar.gz # -nv means \"not verbose\"\n",
    "  tar -x -f /tmp/julia.tar.gz -C /usr/local --strip-components 1\n",
    "  rm /tmp/julia.tar.gz\n",
    "\n",
    "  # Install Packages\n",
    "  if [ \"$COLAB_GPU\" = \"1\" ]; then\n",
    "      JULIA_PACKAGES=\"$JULIA_PACKAGES $JULIA_PACKAGES_IF_GPU\"\n",
    "  fi\n",
    "  for PKG in `echo $JULIA_PACKAGES`; do\n",
    "    echo \"Installing Julia package $PKG...\"\n",
    "    julia -e 'using Pkg; pkg\"add '$PKG'; precompile;\"' &> /dev/null\n",
    "  done\n",
    "\n",
    "  # Install kernel and rename it to \"julia\"\n",
    "  echo \"Installing IJulia kernel...\"\n",
    "  julia -e 'using IJulia; IJulia.installkernel(\"julia\", env=Dict(\n",
    "      \"JULIA_NUM_THREADS\"=>\"'\"$JULIA_NUM_THREADS\"'\"))'\n",
    "  KERNEL_DIR=`julia -e \"using IJulia; print(IJulia.kerneldir())\"`\n",
    "  KERNEL_NAME=`ls -d \"$KERNEL_DIR\"/julia*`\n",
    "  mv -f $KERNEL_NAME \"$KERNEL_DIR\"/julia  \n",
    "\n",
    "  echo ''\n",
    "  echo \"Successfully installed `julia -v`!\"\n",
    "  echo \"Reload this page (press Ctrl+R, ⌘+R, or the F5 key) then\"\n",
    "fi"
   ]
  },
  {
   "cell_type": "markdown",
   "metadata": {
    "id": "Pk7y2-7uvMbT"
   },
   "source": [
    "### Step 2: Hit refresh on your browser\n",
    "\n",
    "Refreshing the page will reinitialize your instance and connect to a Julia kernel instead of Python. If you want to use a GPU, this is where you would add GPU acceleration under `Runtime` > `Change Runtime Type`"
   ]
  },
  {
   "cell_type": "markdown",
   "metadata": {
    "id": "BCErpOS0vsgn"
   },
   "source": [
    "### Step 3: Verify the julia installation works"
   ]
  },
  {
   "cell_type": "code",
   "execution_count": 1,
   "metadata": {
    "colab": {
     "base_uri": "https://localhost:8080/"
    },
    "id": "EEzvvzCl1i0F",
    "outputId": "7f8d78cc-6ce7-4f34-f5bd-7894d35aa994"
   },
   "outputs": [
    {
     "name": "stdout",
     "output_type": "stream",
     "text": [
      "Julia Version 1.7.2\n",
      "Commit bf53498635 (2022-02-06 15:21 UTC)\n",
      "Platform Info:\n",
      "  OS: Linux (x86_64-pc-linux-gnu)\n",
      "  CPU: Intel(R) Core(TM) i7-5820K CPU @ 3.30GHz\n",
      "  WORD_SIZE: 64\n",
      "  LIBM: libopenlibm\n",
      "  LLVM: libLLVM-12.0.1 (ORCJIT, haswell)\n"
     ]
    }
   ],
   "source": [
    "versioninfo()"
   ]
  },
  {
   "cell_type": "markdown",
   "metadata": {
    "id": "-OS3Ac017T1i"
   },
   "source": [
    "# Tutorial\n"
   ]
  },
  {
   "cell_type": "markdown",
   "metadata": {
    "id": "Ce8EXCo-2yDV"
   },
   "source": [
    "We will be modelling a Josephson Junction using the RCSJ model to recreate a JJ Washboard Potential. Our system can be described by this second order differential equation:\n",
    "\n",
    "<br />\n",
    "\n",
    "$$\\dfrac{\\Phi_0}{2\\pi}C\\ddot\\phi+\\dfrac{\\Phi_0}{2\\pi R} \\dot\\phi+I_c \\sin\\phi=\\dfrac{\\Phi_0}{2\\pi R} I$$\n",
    "\n",
    "Our system has a mechanical analog of a force driven pendulum:\n",
    "\n",
    "<br />\n",
    "\n",
    "$$ml^2\\ddot\\phi+\\Gamma\\dot\\phi+mgl\\sin\\phi=\\tau_{applied}$$\n",
    "\n",
    "<br />\n",
    "\n",
    "Where $ml^2\\equiv\\dfrac{\\Phi_0}{2\\pi}C$, $\\;\\;\\Gamma\\equiv\\dfrac{\\Phi_0}{2\\pi R}$, $\\;\\; mg=I_c$, $\\;\\; l=1$ and $\\tau_{\\text{applied}} = F_{\\text{drive}}\\cdot l\\equiv\\dfrac{\\Phi_0}{2\\pi R} I$\n",
    "\n",
    "<br />\n",
    "*NOTE: this work is based on a MATLAB visualization made for 6.s079 here [tareqdandachi/RCSJ-Washboard-Potential](https://github.com/tareqdandachi/RCSJ-Washboard-Potential).*"
   ]
  },
  {
   "cell_type": "markdown",
   "metadata": {
    "id": "6cvTxtBaxel0"
   },
   "source": [
    "### Importing packages"
   ]
  },
  {
   "cell_type": "code",
   "execution_count": 3,
   "metadata": {
    "id": "YjM_qq54lCcs"
   },
   "outputs": [],
   "source": [
    "using BenchmarkTools\n",
    "using Plots\n",
    "using DifferentialEquations\n",
    "using LinearAlgebra"
   ]
  },
  {
   "cell_type": "markdown",
   "metadata": {
    "id": "sFC0RVkI5yKR"
   },
   "source": [
    "### Start out with linearized near zero since phase driven to 0. Ideal JJ eq\n",
    "\n",
    "$$v(t) = \\dfrac{\\Phi_0}{2\\pi I_c}\\dfrac{di}{dt} + iR_N$$\n",
    "\n",
    "hmmm...\n",
    "\n",
    "instead lets do RC circuit first\n",
    "\n",
    "You have an RC circuit, equation is:\n",
    "\n",
    "$$ RC \\dfrac{dv_c}{dt} + v_c = v_{in}(t) $$\n",
    "\n",
    "Simple scalar first-order diff eq.\n",
    "\n",
    "let $f(v) = \\dfrac{dv_c}{dt} = \\dfrac{1}{RC} \\left( v_{in}(t) - v_c \\right)$"
   ]
  },
  {
   "cell_type": "code",
   "execution_count": 69,
   "metadata": {
    "colab": {
     "base_uri": "https://localhost:8080/",
     "height": 131
    },
    "id": "8iYwbK_HxhrR",
    "outputId": "5a6947fc-1d9f-4842-e661-3084a52d98d4"
   },
   "outputs": [
    {
     "data": {
      "image/svg+xml": [
       "<?xml version=\"1.0\" encoding=\"utf-8\"?>\n",
       "<svg xmlns=\"http://www.w3.org/2000/svg\" xmlns:xlink=\"http://www.w3.org/1999/xlink\" width=\"600\" height=\"400\" viewBox=\"0 0 2400 1600\">\n",
       "<defs>\n",
       "  <clipPath id=\"clip580\">\n",
       "    <rect x=\"0\" y=\"0\" width=\"2400\" height=\"1600\"/>\n",
       "  </clipPath>\n",
       "</defs>\n",
       "<path clip-path=\"url(#clip580)\" d=\"\n",
       "M0 1600 L2400 1600 L2400 0 L0 0  Z\n",
       "  \" fill=\"#ffffff\" fill-rule=\"evenodd\" fill-opacity=\"1\"/>\n",
       "<defs>\n",
       "  <clipPath id=\"clip581\">\n",
       "    <rect x=\"480\" y=\"0\" width=\"1681\" height=\"1600\"/>\n",
       "  </clipPath>\n",
       "</defs>\n",
       "<path clip-path=\"url(#clip580)\" d=\"\n",
       "M257.204 1410.9 L2352.76 1410.9 L2352.76 123.472 L257.204 123.472  Z\n",
       "  \" fill=\"#ffffff\" fill-rule=\"evenodd\" fill-opacity=\"1\"/>\n",
       "<defs>\n",
       "  <clipPath id=\"clip582\">\n",
       "    <rect x=\"257\" y=\"123\" width=\"2097\" height=\"1288\"/>\n",
       "  </clipPath>\n",
       "</defs>\n",
       "<polyline clip-path=\"url(#clip582)\" style=\"stroke:#000000; stroke-linecap:butt; stroke-linejoin:round; stroke-width:2; stroke-opacity:0.1; fill:none\" points=\"\n",
       "  257.204,1410.9 257.204,123.472 \n",
       "  \"/>\n",
       "<polyline clip-path=\"url(#clip582)\" style=\"stroke:#000000; stroke-linecap:butt; stroke-linejoin:round; stroke-width:2; stroke-opacity:0.1; fill:none\" points=\"\n",
       "  781.092,1410.9 781.092,123.472 \n",
       "  \"/>\n",
       "<polyline clip-path=\"url(#clip582)\" style=\"stroke:#000000; stroke-linecap:butt; stroke-linejoin:round; stroke-width:2; stroke-opacity:0.1; fill:none\" points=\"\n",
       "  1304.98,1410.9 1304.98,123.472 \n",
       "  \"/>\n",
       "<polyline clip-path=\"url(#clip582)\" style=\"stroke:#000000; stroke-linecap:butt; stroke-linejoin:round; stroke-width:2; stroke-opacity:0.1; fill:none\" points=\"\n",
       "  1828.87,1410.9 1828.87,123.472 \n",
       "  \"/>\n",
       "<polyline clip-path=\"url(#clip582)\" style=\"stroke:#000000; stroke-linecap:butt; stroke-linejoin:round; stroke-width:2; stroke-opacity:0.1; fill:none\" points=\"\n",
       "  2352.76,1410.9 2352.76,123.472 \n",
       "  \"/>\n",
       "<polyline clip-path=\"url(#clip580)\" style=\"stroke:#000000; stroke-linecap:butt; stroke-linejoin:round; stroke-width:4; stroke-opacity:1; fill:none\" points=\"\n",
       "  257.204,1410.9 2352.76,1410.9 \n",
       "  \"/>\n",
       "<polyline clip-path=\"url(#clip580)\" style=\"stroke:#000000; stroke-linecap:butt; stroke-linejoin:round; stroke-width:4; stroke-opacity:1; fill:none\" points=\"\n",
       "  257.204,1410.9 257.204,1392 \n",
       "  \"/>\n",
       "<polyline clip-path=\"url(#clip580)\" style=\"stroke:#000000; stroke-linecap:butt; stroke-linejoin:round; stroke-width:4; stroke-opacity:1; fill:none\" points=\"\n",
       "  781.092,1410.9 781.092,1392 \n",
       "  \"/>\n",
       "<polyline clip-path=\"url(#clip580)\" style=\"stroke:#000000; stroke-linecap:butt; stroke-linejoin:round; stroke-width:4; stroke-opacity:1; fill:none\" points=\"\n",
       "  1304.98,1410.9 1304.98,1392 \n",
       "  \"/>\n",
       "<polyline clip-path=\"url(#clip580)\" style=\"stroke:#000000; stroke-linecap:butt; stroke-linejoin:round; stroke-width:4; stroke-opacity:1; fill:none\" points=\"\n",
       "  1828.87,1410.9 1828.87,1392 \n",
       "  \"/>\n",
       "<polyline clip-path=\"url(#clip580)\" style=\"stroke:#000000; stroke-linecap:butt; stroke-linejoin:round; stroke-width:4; stroke-opacity:1; fill:none\" points=\"\n",
       "  2352.76,1410.9 2352.76,1392 \n",
       "  \"/>\n",
       "<path clip-path=\"url(#clip580)\" d=\"M257.204 1441.82 Q253.593 1441.82 251.764 1445.38 Q249.959 1448.92 249.959 1456.05 Q249.959 1463.16 251.764 1466.72 Q253.593 1470.26 257.204 1470.26 Q260.838 1470.26 262.644 1466.72 Q264.473 1463.16 264.473 1456.05 Q264.473 1448.92 262.644 1445.38 Q260.838 1441.82 257.204 1441.82 M257.204 1438.11 Q263.014 1438.11 266.07 1442.72 Q269.148 1447.3 269.148 1456.05 Q269.148 1464.78 266.07 1469.38 Q263.014 1473.97 257.204 1473.97 Q251.394 1473.97 248.315 1469.38 Q245.26 1464.78 245.26 1456.05 Q245.26 1447.3 248.315 1442.72 Q251.394 1438.11 257.204 1438.11 Z\" fill=\"#000000\" fill-rule=\"evenodd\" fill-opacity=\"1\" /><path clip-path=\"url(#clip580)\" d=\"M662.09 1485.02 L678.41 1485.02 L678.41 1488.96 L656.465 1488.96 L656.465 1485.02 Q659.127 1482.27 663.711 1477.64 Q668.317 1472.98 669.498 1471.64 Q671.743 1469.12 672.623 1467.38 Q673.525 1465.62 673.525 1463.93 Q673.525 1461.18 671.581 1459.44 Q669.66 1457.71 666.558 1457.71 Q664.359 1457.71 661.905 1458.47 Q659.474 1459.23 656.697 1460.79 L656.697 1456.06 Q659.521 1454.93 661.974 1454.35 Q664.428 1453.77 666.465 1453.77 Q671.835 1453.77 675.03 1456.46 Q678.224 1459.14 678.224 1463.63 Q678.224 1465.76 677.414 1467.68 Q676.627 1469.58 674.521 1472.17 Q673.942 1472.85 670.84 1476.06 Q667.738 1479.26 662.09 1485.02 Z\" fill=\"#000000\" fill-rule=\"evenodd\" fill-opacity=\"1\" /><path clip-path=\"url(#clip580)\" d=\"M688.224 1483.08 L693.109 1483.08 L693.109 1488.96 L688.224 1488.96 L688.224 1483.08 Z\" fill=\"#000000\" fill-rule=\"evenodd\" fill-opacity=\"1\" /><path clip-path=\"url(#clip580)\" d=\"M703.34 1454.4 L721.696 1454.4 L721.696 1458.33 L707.622 1458.33 L707.622 1466.8 Q708.641 1466.46 709.659 1466.29 Q710.678 1466.11 711.696 1466.11 Q717.483 1466.11 720.863 1469.28 Q724.243 1472.45 724.243 1477.87 Q724.243 1483.45 720.77 1486.55 Q717.298 1489.63 710.979 1489.63 Q708.803 1489.63 706.534 1489.26 Q704.289 1488.89 701.882 1488.15 L701.882 1483.45 Q703.965 1484.58 706.187 1485.14 Q708.409 1485.69 710.886 1485.69 Q714.891 1485.69 717.229 1483.59 Q719.567 1481.48 719.567 1477.87 Q719.567 1474.26 717.229 1472.15 Q714.891 1470.04 710.886 1470.04 Q709.011 1470.04 707.136 1470.46 Q705.284 1470.88 703.34 1471.76 L703.34 1454.4 Z\" fill=\"#000000\" fill-rule=\"evenodd\" fill-opacity=\"1\" /><path clip-path=\"url(#clip580)\" d=\"M743.455 1457.48 Q739.844 1457.48 738.016 1461.04 Q736.21 1464.58 736.21 1471.71 Q736.21 1478.82 738.016 1482.38 Q739.844 1485.92 743.455 1485.92 Q747.09 1485.92 748.895 1482.38 Q750.724 1478.82 750.724 1471.71 Q750.724 1464.58 748.895 1461.04 Q747.09 1457.48 743.455 1457.48 M743.455 1453.77 Q749.266 1453.77 752.321 1458.38 Q755.4 1462.96 755.4 1471.71 Q755.4 1480.44 752.321 1485.04 Q749.266 1489.63 743.455 1489.63 Q737.645 1489.63 734.567 1485.04 Q731.511 1480.44 731.511 1471.71 Q731.511 1462.96 734.567 1458.38 Q737.645 1453.77 743.455 1453.77 Z\" fill=\"#000000\" fill-rule=\"evenodd\" fill-opacity=\"1\" /><path clip-path=\"url(#clip580)\" d=\"M791.789 1463.49 L781.21 1474.12 L791.789 1484.7 L789.034 1487.5 L778.409 1476.87 L767.784 1487.5 L765.053 1484.7 L775.608 1474.12 L765.053 1463.49 L767.784 1460.69 L778.409 1471.32 L789.034 1460.69 L791.789 1463.49 Z\" fill=\"#000000\" fill-rule=\"evenodd\" fill-opacity=\"1\" /><path clip-path=\"url(#clip580)\" d=\"M804.15 1485.02 L811.788 1485.02 L811.788 1458.66 L803.478 1460.32 L803.478 1456.06 L811.742 1454.4 L816.418 1454.4 L816.418 1485.02 L824.057 1485.02 L824.057 1488.96 L804.15 1488.96 L804.15 1485.02 Z\" fill=\"#000000\" fill-rule=\"evenodd\" fill-opacity=\"1\" /><path clip-path=\"url(#clip580)\" d=\"M843.501 1457.48 Q839.89 1457.48 838.061 1461.04 Q836.256 1464.58 836.256 1471.71 Q836.256 1478.82 838.061 1482.38 Q839.89 1485.92 843.501 1485.92 Q847.135 1485.92 848.941 1482.38 Q850.77 1478.82 850.77 1471.71 Q850.77 1464.58 848.941 1461.04 Q847.135 1457.48 843.501 1457.48 M843.501 1453.77 Q849.311 1453.77 852.367 1458.38 Q855.446 1462.96 855.446 1471.71 Q855.446 1480.44 852.367 1485.04 Q849.311 1489.63 843.501 1489.63 Q837.691 1489.63 834.612 1485.04 Q831.557 1480.44 831.557 1471.71 Q831.557 1462.96 834.612 1458.38 Q837.691 1453.77 843.501 1453.77 Z\" fill=\"#000000\" fill-rule=\"evenodd\" fill-opacity=\"1\" /><path clip-path=\"url(#clip580)\" d=\"M855.446 1447.87 L879.557 1447.87 L879.557 1451.07 L855.446 1451.07 L855.446 1447.87 Z\" fill=\"#000000\" fill-rule=\"evenodd\" fill-opacity=\"1\" /><path clip-path=\"url(#clip580)\" d=\"M896.353 1445.99 Q893.795 1445.99 892.29 1447.74 Q890.804 1449.49 890.804 1452.54 Q890.804 1455.57 892.29 1457.33 Q893.795 1459.08 896.353 1459.08 Q898.91 1459.08 900.396 1457.33 Q901.901 1455.57 901.901 1452.54 Q901.901 1449.49 900.396 1447.74 Q898.91 1445.99 896.353 1445.99 M903.894 1434.09 L903.894 1437.55 Q902.465 1436.87 900.998 1436.51 Q899.55 1436.16 898.12 1436.16 Q894.359 1436.16 892.365 1438.69 Q890.39 1441.23 890.108 1446.37 Q891.218 1444.73 892.892 1443.87 Q894.566 1442.98 896.578 1442.98 Q900.81 1442.98 903.255 1445.56 Q905.719 1448.12 905.719 1452.54 Q905.719 1456.86 903.161 1459.48 Q900.603 1462.09 896.353 1462.09 Q891.481 1462.09 888.905 1458.37 Q886.328 1454.62 886.328 1447.53 Q886.328 1440.88 889.488 1436.93 Q892.647 1432.96 897.97 1432.96 Q899.399 1432.96 900.848 1433.24 Q902.315 1433.52 903.894 1434.09 Z\" fill=\"#000000\" fill-rule=\"evenodd\" fill-opacity=\"1\" /><path clip-path=\"url(#clip580)\" d=\"M1181.9 1454.4 L1200.26 1454.4 L1200.26 1458.33 L1186.19 1458.33 L1186.19 1466.8 Q1187.2 1466.46 1188.22 1466.29 Q1189.24 1466.11 1190.26 1466.11 Q1196.05 1466.11 1199.43 1469.28 Q1202.81 1472.45 1202.81 1477.87 Q1202.81 1483.45 1199.33 1486.55 Q1195.86 1489.63 1189.54 1489.63 Q1187.37 1489.63 1185.1 1489.26 Q1182.85 1488.89 1180.45 1488.15 L1180.45 1483.45 Q1182.53 1484.58 1184.75 1485.14 Q1186.97 1485.69 1189.45 1485.69 Q1193.45 1485.69 1195.79 1483.59 Q1198.13 1481.48 1198.13 1477.87 Q1198.13 1474.26 1195.79 1472.15 Q1193.45 1470.04 1189.45 1470.04 Q1187.58 1470.04 1185.7 1470.46 Q1183.85 1470.88 1181.9 1471.76 L1181.9 1454.4 Z\" fill=\"#000000\" fill-rule=\"evenodd\" fill-opacity=\"1\" /><path clip-path=\"url(#clip580)\" d=\"M1212.02 1483.08 L1216.9 1483.08 L1216.9 1488.96 L1212.02 1488.96 L1212.02 1483.08 Z\" fill=\"#000000\" fill-rule=\"evenodd\" fill-opacity=\"1\" /><path clip-path=\"url(#clip580)\" d=\"M1237.09 1457.48 Q1233.48 1457.48 1231.65 1461.04 Q1229.84 1464.58 1229.84 1471.71 Q1229.84 1478.82 1231.65 1482.38 Q1233.48 1485.92 1237.09 1485.92 Q1240.72 1485.92 1242.53 1482.38 Q1244.36 1478.82 1244.36 1471.71 Q1244.36 1464.58 1242.53 1461.04 Q1240.72 1457.48 1237.09 1457.48 M1237.09 1453.77 Q1242.9 1453.77 1245.95 1458.38 Q1249.03 1462.96 1249.03 1471.71 Q1249.03 1480.44 1245.95 1485.04 Q1242.9 1489.63 1237.09 1489.63 Q1231.28 1489.63 1228.2 1485.04 Q1225.14 1480.44 1225.14 1471.71 Q1225.14 1462.96 1228.2 1458.38 Q1231.28 1453.77 1237.09 1453.77 Z\" fill=\"#000000\" fill-rule=\"evenodd\" fill-opacity=\"1\" /><path clip-path=\"url(#clip580)\" d=\"M1267.25 1457.48 Q1263.64 1457.48 1261.81 1461.04 Q1260.01 1464.58 1260.01 1471.71 Q1260.01 1478.82 1261.81 1482.38 Q1263.64 1485.92 1267.25 1485.92 Q1270.89 1485.92 1272.69 1482.38 Q1274.52 1478.82 1274.52 1471.71 Q1274.52 1464.58 1272.69 1461.04 Q1270.89 1457.48 1267.25 1457.48 M1267.25 1453.77 Q1273.06 1453.77 1276.12 1458.38 Q1279.2 1462.96 1279.2 1471.71 Q1279.2 1480.44 1276.12 1485.04 Q1273.06 1489.63 1267.25 1489.63 Q1261.44 1489.63 1258.36 1485.04 Q1255.31 1480.44 1255.31 1471.71 Q1255.31 1462.96 1258.36 1458.38 Q1261.44 1453.77 1267.25 1453.77 Z\" fill=\"#000000\" fill-rule=\"evenodd\" fill-opacity=\"1\" /><path clip-path=\"url(#clip580)\" d=\"M1315.58 1463.49 L1305.01 1474.12 L1315.58 1484.7 L1312.83 1487.5 L1302.2 1476.87 L1291.58 1487.5 L1288.85 1484.7 L1299.4 1474.12 L1288.85 1463.49 L1291.58 1460.69 L1302.2 1471.32 L1312.83 1460.69 L1315.58 1463.49 Z\" fill=\"#000000\" fill-rule=\"evenodd\" fill-opacity=\"1\" /><path clip-path=\"url(#clip580)\" d=\"M1327.94 1485.02 L1335.58 1485.02 L1335.58 1458.66 L1327.27 1460.32 L1327.27 1456.06 L1335.54 1454.4 L1340.21 1454.4 L1340.21 1485.02 L1347.85 1485.02 L1347.85 1488.96 L1327.94 1488.96 L1327.94 1485.02 Z\" fill=\"#000000\" fill-rule=\"evenodd\" fill-opacity=\"1\" /><path clip-path=\"url(#clip580)\" d=\"M1367.3 1457.48 Q1363.69 1457.48 1361.86 1461.04 Q1360.05 1464.58 1360.05 1471.71 Q1360.05 1478.82 1361.86 1482.38 Q1363.69 1485.92 1367.3 1485.92 Q1370.93 1485.92 1372.74 1482.38 Q1374.57 1478.82 1374.57 1471.71 Q1374.57 1464.58 1372.74 1461.04 Q1370.93 1457.48 1367.3 1457.48 M1367.3 1453.77 Q1373.11 1453.77 1376.16 1458.38 Q1379.24 1462.96 1379.24 1471.71 Q1379.24 1480.44 1376.16 1485.04 Q1373.11 1489.63 1367.3 1489.63 Q1361.49 1489.63 1358.41 1485.04 Q1355.35 1480.44 1355.35 1471.71 Q1355.35 1462.96 1358.41 1458.38 Q1361.49 1453.77 1367.3 1453.77 Z\" fill=\"#000000\" fill-rule=\"evenodd\" fill-opacity=\"1\" /><path clip-path=\"url(#clip580)\" d=\"M1379.24 1447.87 L1403.35 1447.87 L1403.35 1451.07 L1379.24 1451.07 L1379.24 1447.87 Z\" fill=\"#000000\" fill-rule=\"evenodd\" fill-opacity=\"1\" /><path clip-path=\"url(#clip580)\" d=\"M1420.15 1445.99 Q1417.59 1445.99 1416.09 1447.74 Q1414.6 1449.49 1414.6 1452.54 Q1414.6 1455.57 1416.09 1457.33 Q1417.59 1459.08 1420.15 1459.08 Q1422.71 1459.08 1424.19 1457.33 Q1425.7 1455.57 1425.7 1452.54 Q1425.7 1449.49 1424.19 1447.74 Q1422.71 1445.99 1420.15 1445.99 M1427.69 1434.09 L1427.69 1437.55 Q1426.26 1436.87 1424.79 1436.51 Q1423.35 1436.16 1421.92 1436.16 Q1418.15 1436.16 1416.16 1438.69 Q1414.19 1441.23 1413.9 1446.37 Q1415.01 1444.73 1416.69 1443.87 Q1418.36 1442.98 1420.37 1442.98 Q1424.61 1442.98 1427.05 1445.56 Q1429.51 1448.12 1429.51 1452.54 Q1429.51 1456.86 1426.96 1459.48 Q1424.4 1462.09 1420.15 1462.09 Q1415.28 1462.09 1412.7 1458.37 Q1410.12 1454.62 1410.12 1447.53 Q1410.12 1440.88 1413.28 1436.93 Q1416.44 1432.96 1421.77 1432.96 Q1423.19 1432.96 1424.64 1433.24 Q1426.11 1433.52 1427.69 1434.09 Z\" fill=\"#000000\" fill-rule=\"evenodd\" fill-opacity=\"1\" /><path clip-path=\"url(#clip580)\" d=\"M1704.45 1454.4 L1726.67 1454.4 L1726.67 1456.39 L1714.13 1488.96 L1709.24 1488.96 L1721.05 1458.33 L1704.45 1458.33 L1704.45 1454.4 Z\" fill=\"#000000\" fill-rule=\"evenodd\" fill-opacity=\"1\" /><path clip-path=\"url(#clip580)\" d=\"M1735.79 1483.08 L1740.68 1483.08 L1740.68 1488.96 L1735.79 1488.96 L1735.79 1483.08 Z\" fill=\"#000000\" fill-rule=\"evenodd\" fill-opacity=\"1\" /><path clip-path=\"url(#clip580)\" d=\"M1750.91 1454.4 L1769.26 1454.4 L1769.26 1458.33 L1755.19 1458.33 L1755.19 1466.8 Q1756.21 1466.46 1757.23 1466.29 Q1758.25 1466.11 1759.26 1466.11 Q1765.05 1466.11 1768.43 1469.28 Q1771.81 1472.45 1771.81 1477.87 Q1771.81 1483.45 1768.34 1486.55 Q1764.87 1489.63 1758.55 1489.63 Q1756.37 1489.63 1754.1 1489.26 Q1751.86 1488.89 1749.45 1488.15 L1749.45 1483.45 Q1751.53 1484.58 1753.75 1485.14 Q1755.98 1485.69 1758.45 1485.69 Q1762.46 1485.69 1764.8 1483.59 Q1767.13 1481.48 1767.13 1477.87 Q1767.13 1474.26 1764.8 1472.15 Q1762.46 1470.04 1758.45 1470.04 Q1756.58 1470.04 1754.7 1470.46 Q1752.85 1470.88 1750.91 1471.76 L1750.91 1454.4 Z\" fill=\"#000000\" fill-rule=\"evenodd\" fill-opacity=\"1\" /><path clip-path=\"url(#clip580)\" d=\"M1791.02 1457.48 Q1787.41 1457.48 1785.58 1461.04 Q1783.78 1464.58 1783.78 1471.71 Q1783.78 1478.82 1785.58 1482.38 Q1787.41 1485.92 1791.02 1485.92 Q1794.66 1485.92 1796.46 1482.38 Q1798.29 1478.82 1798.29 1471.71 Q1798.29 1464.58 1796.46 1461.04 Q1794.66 1457.48 1791.02 1457.48 M1791.02 1453.77 Q1796.83 1453.77 1799.89 1458.38 Q1802.97 1462.96 1802.97 1471.71 Q1802.97 1480.44 1799.89 1485.04 Q1796.83 1489.63 1791.02 1489.63 Q1785.21 1489.63 1782.13 1485.04 Q1779.08 1480.44 1779.08 1471.71 Q1779.08 1462.96 1782.13 1458.38 Q1785.21 1453.77 1791.02 1453.77 Z\" fill=\"#000000\" fill-rule=\"evenodd\" fill-opacity=\"1\" /><path clip-path=\"url(#clip580)\" d=\"M1839.36 1463.49 L1828.78 1474.12 L1839.36 1484.7 L1836.6 1487.5 L1825.98 1476.87 L1815.35 1487.5 L1812.62 1484.7 L1823.18 1474.12 L1812.62 1463.49 L1815.35 1460.69 L1825.98 1471.32 L1836.6 1460.69 L1839.36 1463.49 Z\" fill=\"#000000\" fill-rule=\"evenodd\" fill-opacity=\"1\" /><path clip-path=\"url(#clip580)\" d=\"M1851.72 1485.02 L1859.36 1485.02 L1859.36 1458.66 L1851.05 1460.32 L1851.05 1456.06 L1859.31 1454.4 L1863.99 1454.4 L1863.99 1485.02 L1871.62 1485.02 L1871.62 1488.96 L1851.72 1488.96 L1851.72 1485.02 Z\" fill=\"#000000\" fill-rule=\"evenodd\" fill-opacity=\"1\" /><path clip-path=\"url(#clip580)\" d=\"M1891.07 1457.48 Q1887.46 1457.48 1885.63 1461.04 Q1883.82 1464.58 1883.82 1471.71 Q1883.82 1478.82 1885.63 1482.38 Q1887.46 1485.92 1891.07 1485.92 Q1894.7 1485.92 1896.51 1482.38 Q1898.34 1478.82 1898.34 1471.71 Q1898.34 1464.58 1896.51 1461.04 Q1894.7 1457.48 1891.07 1457.48 M1891.07 1453.77 Q1896.88 1453.77 1899.93 1458.38 Q1903.01 1462.96 1903.01 1471.71 Q1903.01 1480.44 1899.93 1485.04 Q1896.88 1489.63 1891.07 1489.63 Q1885.26 1489.63 1882.18 1485.04 Q1879.12 1480.44 1879.12 1471.71 Q1879.12 1462.96 1882.18 1458.38 Q1885.26 1453.77 1891.07 1453.77 Z\" fill=\"#000000\" fill-rule=\"evenodd\" fill-opacity=\"1\" /><path clip-path=\"url(#clip580)\" d=\"M1903.01 1447.87 L1927.12 1447.87 L1927.12 1451.07 L1903.01 1451.07 L1903.01 1447.87 Z\" fill=\"#000000\" fill-rule=\"evenodd\" fill-opacity=\"1\" /><path clip-path=\"url(#clip580)\" d=\"M1943.92 1445.99 Q1941.36 1445.99 1939.86 1447.74 Q1938.37 1449.49 1938.37 1452.54 Q1938.37 1455.57 1939.86 1457.33 Q1941.36 1459.08 1943.92 1459.08 Q1946.48 1459.08 1947.96 1457.33 Q1949.47 1455.57 1949.47 1452.54 Q1949.47 1449.49 1947.96 1447.74 Q1946.48 1445.99 1943.92 1445.99 M1951.46 1434.09 L1951.46 1437.55 Q1950.03 1436.87 1948.57 1436.51 Q1947.12 1436.16 1945.69 1436.16 Q1941.93 1436.16 1939.93 1438.69 Q1937.96 1441.23 1937.68 1446.37 Q1938.79 1444.73 1940.46 1443.87 Q1942.13 1442.98 1944.15 1442.98 Q1948.38 1442.98 1950.82 1445.56 Q1953.29 1448.12 1953.29 1452.54 Q1953.29 1456.86 1950.73 1459.48 Q1948.17 1462.09 1943.92 1462.09 Q1939.05 1462.09 1936.47 1458.37 Q1933.9 1454.62 1933.9 1447.53 Q1933.9 1440.88 1937.06 1436.93 Q1940.21 1432.96 1945.54 1432.96 Q1946.97 1432.96 1948.42 1433.24 Q1949.88 1433.52 1951.46 1434.09 Z\" fill=\"#000000\" fill-rule=\"evenodd\" fill-opacity=\"1\" /><path clip-path=\"url(#clip580)\" d=\"M2230.14 1485.02 L2237.78 1485.02 L2237.78 1458.66 L2229.47 1460.32 L2229.47 1456.06 L2237.73 1454.4 L2242.41 1454.4 L2242.41 1485.02 L2250.05 1485.02 L2250.05 1488.96 L2230.14 1488.96 L2230.14 1485.02 Z\" fill=\"#000000\" fill-rule=\"evenodd\" fill-opacity=\"1\" /><path clip-path=\"url(#clip580)\" d=\"M2259.49 1483.08 L2264.37 1483.08 L2264.37 1488.96 L2259.49 1488.96 L2259.49 1483.08 Z\" fill=\"#000000\" fill-rule=\"evenodd\" fill-opacity=\"1\" /><path clip-path=\"url(#clip580)\" d=\"M2284.56 1457.48 Q2280.95 1457.48 2279.12 1461.04 Q2277.31 1464.58 2277.31 1471.71 Q2277.31 1478.82 2279.12 1482.38 Q2280.95 1485.92 2284.56 1485.92 Q2288.19 1485.92 2290 1482.38 Q2291.83 1478.82 2291.83 1471.71 Q2291.83 1464.58 2290 1461.04 Q2288.19 1457.48 2284.56 1457.48 M2284.56 1453.77 Q2290.37 1453.77 2293.43 1458.38 Q2296.5 1462.96 2296.5 1471.71 Q2296.5 1480.44 2293.43 1485.04 Q2290.37 1489.63 2284.56 1489.63 Q2278.75 1489.63 2275.67 1485.04 Q2272.62 1480.44 2272.62 1471.71 Q2272.62 1462.96 2275.67 1458.38 Q2278.75 1453.77 2284.56 1453.77 Z\" fill=\"#000000\" fill-rule=\"evenodd\" fill-opacity=\"1\" /><path clip-path=\"url(#clip580)\" d=\"M2314.72 1457.48 Q2311.11 1457.48 2309.28 1461.04 Q2307.48 1464.58 2307.48 1471.71 Q2307.48 1478.82 2309.28 1482.38 Q2311.11 1485.92 2314.72 1485.92 Q2318.36 1485.92 2320.16 1482.38 Q2321.99 1478.82 2321.99 1471.71 Q2321.99 1464.58 2320.16 1461.04 Q2318.36 1457.48 2314.72 1457.48 M2314.72 1453.77 Q2320.53 1453.77 2323.59 1458.38 Q2326.67 1462.96 2326.67 1471.71 Q2326.67 1480.44 2323.59 1485.04 Q2320.53 1489.63 2314.72 1489.63 Q2308.91 1489.63 2305.83 1485.04 Q2302.78 1480.44 2302.78 1471.71 Q2302.78 1462.96 2305.83 1458.38 Q2308.91 1453.77 2314.72 1453.77 Z\" fill=\"#000000\" fill-rule=\"evenodd\" fill-opacity=\"1\" /><path clip-path=\"url(#clip580)\" d=\"M2363.05 1463.49 L2352.48 1474.12 L2363.05 1484.7 L2360.3 1487.5 L2349.68 1476.87 L2339.05 1487.5 L2336.32 1484.7 L2346.87 1474.12 L2336.32 1463.49 L2339.05 1460.69 L2349.68 1471.32 L2360.3 1460.69 L2363.05 1463.49 Z\" fill=\"#000000\" fill-rule=\"evenodd\" fill-opacity=\"1\" /><path clip-path=\"url(#clip580)\" d=\"M2375.42 1485.02 L2383.05 1485.02 L2383.05 1458.66 L2374.74 1460.32 L2374.74 1456.06 L2383.01 1454.4 L2387.68 1454.4 L2387.68 1485.02 L2395.32 1485.02 L2395.32 1488.96 L2375.42 1488.96 L2375.42 1485.02 Z\" fill=\"#000000\" fill-rule=\"evenodd\" fill-opacity=\"1\" /><path clip-path=\"url(#clip580)\" d=\"M2414.77 1457.48 Q2411.16 1457.48 2409.33 1461.04 Q2407.52 1464.58 2407.52 1471.71 Q2407.52 1478.82 2409.33 1482.38 Q2411.16 1485.92 2414.77 1485.92 Q2418.4 1485.92 2420.21 1482.38 Q2422.04 1478.82 2422.04 1471.71 Q2422.04 1464.58 2420.21 1461.04 Q2418.4 1457.48 2414.77 1457.48 M2414.77 1453.77 Q2420.58 1453.77 2423.63 1458.38 Q2426.71 1462.96 2426.71 1471.71 Q2426.71 1480.44 2423.63 1485.04 Q2420.58 1489.63 2414.77 1489.63 Q2408.96 1489.63 2405.88 1485.04 Q2402.82 1480.44 2402.82 1471.71 Q2402.82 1462.96 2405.88 1458.38 Q2408.96 1453.77 2414.77 1453.77 Z\" fill=\"#000000\" fill-rule=\"evenodd\" fill-opacity=\"1\" /><path clip-path=\"url(#clip580)\" d=\"M2426.71 1447.87 L2450.82 1447.87 L2450.82 1451.07 L2426.71 1451.07 L2426.71 1447.87 Z\" fill=\"#000000\" fill-rule=\"evenodd\" fill-opacity=\"1\" /><path clip-path=\"url(#clip580)\" d=\"M2459.06 1433.47 L2473.98 1433.47 L2473.98 1436.66 L2462.54 1436.66 L2462.54 1443.55 Q2463.37 1443.27 2464.2 1443.13 Q2465.02 1442.98 2465.85 1442.98 Q2470.55 1442.98 2473.3 1445.56 Q2476.04 1448.14 2476.04 1452.54 Q2476.04 1457.07 2473.22 1459.59 Q2470.4 1462.09 2465.27 1462.09 Q2463.5 1462.09 2461.66 1461.79 Q2459.83 1461.49 2457.88 1460.89 L2457.88 1457.07 Q2459.57 1457.99 2461.37 1458.44 Q2463.18 1458.89 2465.19 1458.89 Q2468.45 1458.89 2470.35 1457.18 Q2472.25 1455.47 2472.25 1452.54 Q2472.25 1449.6 2470.35 1447.89 Q2468.45 1446.18 2465.19 1446.18 Q2463.67 1446.18 2462.15 1446.52 Q2460.64 1446.86 2459.06 1447.57 L2459.06 1433.47 Z\" fill=\"#000000\" fill-rule=\"evenodd\" fill-opacity=\"1\" /><path clip-path=\"url(#clip580)\" d=\"M1304.04 1528.42 L1304.04 1538.54 L1316.1 1538.54 L1316.1 1543.09 L1304.04 1543.09 L1304.04 1562.44 Q1304.04 1566.8 1305.22 1568.04 Q1306.43 1569.28 1310.09 1569.28 L1316.1 1569.28 L1316.1 1574.19 L1310.09 1574.19 Q1303.31 1574.19 1300.73 1571.67 Q1298.15 1569.12 1298.15 1562.44 L1298.15 1543.09 L1293.86 1543.09 L1293.86 1538.54 L1298.15 1538.54 L1298.15 1528.42 L1304.04 1528.42 Z\" fill=\"#000000\" fill-rule=\"evenodd\" fill-opacity=\"1\" /><polyline clip-path=\"url(#clip582)\" style=\"stroke:#000000; stroke-linecap:butt; stroke-linejoin:round; stroke-width:2; stroke-opacity:0.1; fill:none\" points=\"\n",
       "  257.204,1374.71 2352.76,1374.71 \n",
       "  \"/>\n",
       "<polyline clip-path=\"url(#clip582)\" style=\"stroke:#000000; stroke-linecap:butt; stroke-linejoin:round; stroke-width:2; stroke-opacity:0.1; fill:none\" points=\"\n",
       "  257.204,1070.91 2352.76,1070.91 \n",
       "  \"/>\n",
       "<polyline clip-path=\"url(#clip582)\" style=\"stroke:#000000; stroke-linecap:butt; stroke-linejoin:round; stroke-width:2; stroke-opacity:0.1; fill:none\" points=\"\n",
       "  257.204,767.103 2352.76,767.103 \n",
       "  \"/>\n",
       "<polyline clip-path=\"url(#clip582)\" style=\"stroke:#000000; stroke-linecap:butt; stroke-linejoin:round; stroke-width:2; stroke-opacity:0.1; fill:none\" points=\"\n",
       "  257.204,463.298 2352.76,463.298 \n",
       "  \"/>\n",
       "<polyline clip-path=\"url(#clip582)\" style=\"stroke:#000000; stroke-linecap:butt; stroke-linejoin:round; stroke-width:2; stroke-opacity:0.1; fill:none\" points=\"\n",
       "  257.204,159.494 2352.76,159.494 \n",
       "  \"/>\n",
       "<polyline clip-path=\"url(#clip580)\" style=\"stroke:#000000; stroke-linecap:butt; stroke-linejoin:round; stroke-width:4; stroke-opacity:1; fill:none\" points=\"\n",
       "  257.204,1410.9 257.204,123.472 \n",
       "  \"/>\n",
       "<polyline clip-path=\"url(#clip580)\" style=\"stroke:#000000; stroke-linecap:butt; stroke-linejoin:round; stroke-width:4; stroke-opacity:1; fill:none\" points=\"\n",
       "  257.204,1374.71 276.102,1374.71 \n",
       "  \"/>\n",
       "<polyline clip-path=\"url(#clip580)\" style=\"stroke:#000000; stroke-linecap:butt; stroke-linejoin:round; stroke-width:4; stroke-opacity:1; fill:none\" points=\"\n",
       "  257.204,1070.91 276.102,1070.91 \n",
       "  \"/>\n",
       "<polyline clip-path=\"url(#clip580)\" style=\"stroke:#000000; stroke-linecap:butt; stroke-linejoin:round; stroke-width:4; stroke-opacity:1; fill:none\" points=\"\n",
       "  257.204,767.103 276.102,767.103 \n",
       "  \"/>\n",
       "<polyline clip-path=\"url(#clip580)\" style=\"stroke:#000000; stroke-linecap:butt; stroke-linejoin:round; stroke-width:4; stroke-opacity:1; fill:none\" points=\"\n",
       "  257.204,463.298 276.102,463.298 \n",
       "  \"/>\n",
       "<polyline clip-path=\"url(#clip580)\" style=\"stroke:#000000; stroke-linecap:butt; stroke-linejoin:round; stroke-width:4; stroke-opacity:1; fill:none\" points=\"\n",
       "  257.204,159.494 276.102,159.494 \n",
       "  \"/>\n",
       "<path clip-path=\"url(#clip580)\" d=\"M114.26 1375.16 L143.936 1375.16 L143.936 1379.1 L114.26 1379.1 L114.26 1375.16 Z\" fill=\"#000000\" fill-rule=\"evenodd\" fill-opacity=\"1\" /><path clip-path=\"url(#clip580)\" d=\"M154.839 1388.06 L162.477 1388.06 L162.477 1361.69 L154.167 1363.36 L154.167 1359.1 L162.431 1357.43 L167.107 1357.43 L167.107 1388.06 L174.746 1388.06 L174.746 1391.99 L154.839 1391.99 L154.839 1388.06 Z\" fill=\"#000000\" fill-rule=\"evenodd\" fill-opacity=\"1\" /><path clip-path=\"url(#clip580)\" d=\"M184.19 1386.11 L189.075 1386.11 L189.075 1391.99 L184.19 1391.99 L184.19 1386.11 Z\" fill=\"#000000\" fill-rule=\"evenodd\" fill-opacity=\"1\" /><path clip-path=\"url(#clip580)\" d=\"M209.26 1360.51 Q205.649 1360.51 203.82 1364.07 Q202.014 1367.62 202.014 1374.75 Q202.014 1381.85 203.82 1385.42 Q205.649 1388.96 209.26 1388.96 Q212.894 1388.96 214.699 1385.42 Q216.528 1381.85 216.528 1374.75 Q216.528 1367.62 214.699 1364.07 Q212.894 1360.51 209.26 1360.51 M209.26 1356.81 Q215.07 1356.81 218.125 1361.41 Q221.204 1366 221.204 1374.75 Q221.204 1383.47 218.125 1388.08 Q215.07 1392.66 209.26 1392.66 Q203.449 1392.66 200.371 1388.08 Q197.315 1383.47 197.315 1374.75 Q197.315 1366 200.371 1361.41 Q203.449 1356.81 209.26 1356.81 Z\" fill=\"#000000\" fill-rule=\"evenodd\" fill-opacity=\"1\" /><path clip-path=\"url(#clip580)\" d=\"M115.256 1071.36 L144.931 1071.36 L144.931 1075.29 L115.256 1075.29 L115.256 1071.36 Z\" fill=\"#000000\" fill-rule=\"evenodd\" fill-opacity=\"1\" /><path clip-path=\"url(#clip580)\" d=\"M165.024 1056.71 Q161.413 1056.71 159.584 1060.27 Q157.778 1063.81 157.778 1070.94 Q157.778 1078.05 159.584 1081.61 Q161.413 1085.15 165.024 1085.15 Q168.658 1085.15 170.464 1081.61 Q172.292 1078.05 172.292 1070.94 Q172.292 1063.81 170.464 1060.27 Q168.658 1056.71 165.024 1056.71 M165.024 1053 Q170.834 1053 173.889 1057.61 Q176.968 1062.19 176.968 1070.94 Q176.968 1079.67 173.889 1084.27 Q170.834 1088.86 165.024 1088.86 Q159.214 1088.86 156.135 1084.27 Q153.079 1079.67 153.079 1070.94 Q153.079 1062.19 156.135 1057.61 Q159.214 1053 165.024 1053 Z\" fill=\"#000000\" fill-rule=\"evenodd\" fill-opacity=\"1\" /><path clip-path=\"url(#clip580)\" d=\"M185.186 1082.31 L190.07 1082.31 L190.07 1088.19 L185.186 1088.19 L185.186 1082.31 Z\" fill=\"#000000\" fill-rule=\"evenodd\" fill-opacity=\"1\" /><path clip-path=\"url(#clip580)\" d=\"M200.301 1053.63 L218.658 1053.63 L218.658 1057.56 L204.584 1057.56 L204.584 1066.03 Q205.602 1065.69 206.621 1065.52 Q207.639 1065.34 208.658 1065.34 Q214.445 1065.34 217.824 1068.51 Q221.204 1071.68 221.204 1077.1 Q221.204 1082.68 217.732 1085.78 Q214.26 1088.86 207.94 1088.86 Q205.764 1088.86 203.496 1088.49 Q201.25 1088.12 198.843 1087.38 L198.843 1082.68 Q200.926 1083.81 203.149 1084.37 Q205.371 1084.92 207.848 1084.92 Q211.852 1084.92 214.19 1082.82 Q216.528 1080.71 216.528 1077.1 Q216.528 1073.49 214.19 1071.38 Q211.852 1069.27 207.848 1069.27 Q205.973 1069.27 204.098 1069.69 Q202.246 1070.11 200.301 1070.99 L200.301 1053.63 Z\" fill=\"#000000\" fill-rule=\"evenodd\" fill-opacity=\"1\" /><path clip-path=\"url(#clip580)\" d=\"M164.028 752.901 Q160.417 752.901 158.589 756.466 Q156.783 760.008 156.783 767.137 Q156.783 774.244 158.589 777.809 Q160.417 781.35 164.028 781.35 Q167.663 781.35 169.468 777.809 Q171.297 774.244 171.297 767.137 Q171.297 760.008 169.468 756.466 Q167.663 752.901 164.028 752.901 M164.028 749.198 Q169.839 749.198 172.894 753.804 Q175.973 758.387 175.973 767.137 Q175.973 775.864 172.894 780.471 Q169.839 785.054 164.028 785.054 Q158.218 785.054 155.14 780.471 Q152.084 775.864 152.084 767.137 Q152.084 758.387 155.14 753.804 Q158.218 749.198 164.028 749.198 Z\" fill=\"#000000\" fill-rule=\"evenodd\" fill-opacity=\"1\" /><path clip-path=\"url(#clip580)\" d=\"M184.19 778.503 L189.075 778.503 L189.075 784.383 L184.19 784.383 L184.19 778.503 Z\" fill=\"#000000\" fill-rule=\"evenodd\" fill-opacity=\"1\" /><path clip-path=\"url(#clip580)\" d=\"M209.26 752.901 Q205.649 752.901 203.82 756.466 Q202.014 760.008 202.014 767.137 Q202.014 774.244 203.82 777.809 Q205.649 781.35 209.26 781.35 Q212.894 781.35 214.699 777.809 Q216.528 774.244 216.528 767.137 Q216.528 760.008 214.699 756.466 Q212.894 752.901 209.26 752.901 M209.26 749.198 Q215.07 749.198 218.125 753.804 Q221.204 758.387 221.204 767.137 Q221.204 775.864 218.125 780.471 Q215.07 785.054 209.26 785.054 Q203.449 785.054 200.371 780.471 Q197.315 775.864 197.315 767.137 Q197.315 758.387 200.371 753.804 Q203.449 749.198 209.26 749.198 Z\" fill=\"#000000\" fill-rule=\"evenodd\" fill-opacity=\"1\" /><path clip-path=\"url(#clip580)\" d=\"M165.024 449.097 Q161.413 449.097 159.584 452.662 Q157.778 456.203 157.778 463.333 Q157.778 470.44 159.584 474.004 Q161.413 477.546 165.024 477.546 Q168.658 477.546 170.464 474.004 Q172.292 470.44 172.292 463.333 Q172.292 456.203 170.464 452.662 Q168.658 449.097 165.024 449.097 M165.024 445.393 Q170.834 445.393 173.889 450 Q176.968 454.583 176.968 463.333 Q176.968 472.06 173.889 476.666 Q170.834 481.25 165.024 481.25 Q159.214 481.25 156.135 476.666 Q153.079 472.06 153.079 463.333 Q153.079 454.583 156.135 450 Q159.214 445.393 165.024 445.393 Z\" fill=\"#000000\" fill-rule=\"evenodd\" fill-opacity=\"1\" /><path clip-path=\"url(#clip580)\" d=\"M185.186 474.699 L190.07 474.699 L190.07 480.578 L185.186 480.578 L185.186 474.699 Z\" fill=\"#000000\" fill-rule=\"evenodd\" fill-opacity=\"1\" /><path clip-path=\"url(#clip580)\" d=\"M200.301 446.018 L218.658 446.018 L218.658 449.954 L204.584 449.954 L204.584 458.426 Q205.602 458.078 206.621 457.916 Q207.639 457.731 208.658 457.731 Q214.445 457.731 217.824 460.903 Q221.204 464.074 221.204 469.49 Q221.204 475.069 217.732 478.171 Q214.26 481.25 207.94 481.25 Q205.764 481.25 203.496 480.879 Q201.25 480.509 198.843 479.768 L198.843 475.069 Q200.926 476.203 203.149 476.759 Q205.371 477.314 207.848 477.314 Q211.852 477.314 214.19 475.208 Q216.528 473.102 216.528 469.49 Q216.528 465.879 214.19 463.773 Q211.852 461.666 207.848 461.666 Q205.973 461.666 204.098 462.083 Q202.246 462.5 200.301 463.379 L200.301 446.018 Z\" fill=\"#000000\" fill-rule=\"evenodd\" fill-opacity=\"1\" /><path clip-path=\"url(#clip580)\" d=\"M154.839 172.839 L162.477 172.839 L162.477 146.473 L154.167 148.14 L154.167 143.881 L162.431 142.214 L167.107 142.214 L167.107 172.839 L174.746 172.839 L174.746 176.774 L154.839 176.774 L154.839 172.839 Z\" fill=\"#000000\" fill-rule=\"evenodd\" fill-opacity=\"1\" /><path clip-path=\"url(#clip580)\" d=\"M184.19 170.895 L189.075 170.895 L189.075 176.774 L184.19 176.774 L184.19 170.895 Z\" fill=\"#000000\" fill-rule=\"evenodd\" fill-opacity=\"1\" /><path clip-path=\"url(#clip580)\" d=\"M209.26 145.293 Q205.649 145.293 203.82 148.858 Q202.014 152.399 202.014 159.529 Q202.014 166.635 203.82 170.2 Q205.649 173.742 209.26 173.742 Q212.894 173.742 214.699 170.2 Q216.528 166.635 216.528 159.529 Q216.528 152.399 214.699 148.858 Q212.894 145.293 209.26 145.293 M209.26 141.589 Q215.07 141.589 218.125 146.196 Q221.204 150.779 221.204 159.529 Q221.204 168.256 218.125 172.862 Q215.07 177.445 209.26 177.445 Q203.449 177.445 200.371 172.862 Q197.315 168.256 197.315 159.529 Q197.315 150.779 200.371 146.196 Q203.449 141.589 209.26 141.589 Z\" fill=\"#000000\" fill-rule=\"evenodd\" fill-opacity=\"1\" /><path clip-path=\"url(#clip580)\" d=\"M64.0042 978.096 L16.4842 996.238 L16.4842 989.523 L56.4926 974.468 L16.4842 959.381 L16.4842 952.697 L64.0042 970.807 L64.0042 978.096 Z\" fill=\"#000000\" fill-rule=\"evenodd\" fill-opacity=\"1\" /><path clip-path=\"url(#clip580)\" d=\"M32.4621 937.26 Q32.4621 941.971 36.1542 944.708 Q39.8145 947.445 46.212 947.445 Q52.6095 947.445 56.3017 944.74 Q59.9619 942.003 59.9619 937.26 Q59.9619 932.581 56.2698 929.844 Q52.5777 927.107 46.212 927.107 Q39.8781 927.107 36.186 929.844 Q32.4621 932.581 32.4621 937.26 M27.4968 937.26 Q27.4968 929.621 32.4621 925.261 Q37.4273 920.9 46.212 920.9 Q54.9649 920.9 59.9619 925.261 Q64.9272 929.621 64.9272 937.26 Q64.9272 944.931 59.9619 949.291 Q54.9649 953.62 46.212 953.62 Q37.4273 953.62 32.4621 949.291 Q27.4968 944.931 27.4968 937.26 Z\" fill=\"#000000\" fill-rule=\"evenodd\" fill-opacity=\"1\" /><path clip-path=\"url(#clip580)\" d=\"M14.479 911.193 L14.479 905.336 L64.0042 905.336 L64.0042 911.193 L14.479 911.193 Z\" fill=\"#000000\" fill-rule=\"evenodd\" fill-opacity=\"1\" /><path clip-path=\"url(#clip580)\" d=\"M18.2347 887.289 L28.3562 887.289 L28.3562 875.226 L32.9077 875.226 L32.9077 887.289 L52.2594 887.289 Q56.6199 887.289 57.8613 886.112 Q59.1026 884.902 59.1026 881.242 L59.1026 875.226 L64.0042 875.226 L64.0042 881.242 Q64.0042 888.021 61.4897 890.6 Q58.9434 893.178 52.2594 893.178 L32.9077 893.178 L32.9077 897.474 L28.3562 897.474 L28.3562 893.178 L18.2347 893.178 L18.2347 887.289 Z\" fill=\"#000000\" fill-rule=\"evenodd\" fill-opacity=\"1\" /><path clip-path=\"url(#clip580)\" d=\"M46.0847 851.323 Q46.0847 858.421 47.7079 861.158 Q49.3312 863.895 53.2461 863.895 Q56.3653 863.895 58.2114 861.858 Q60.0256 859.79 60.0256 856.257 Q60.0256 851.387 56.5881 848.459 Q53.1188 845.498 47.3897 845.498 L46.0847 845.498 L46.0847 851.323 M43.6657 839.642 L64.0042 839.642 L64.0042 845.498 L58.5933 845.498 Q61.8398 847.504 63.3994 850.496 Q64.9272 853.487 64.9272 857.816 Q64.9272 863.291 61.8716 866.537 Q58.7843 869.752 53.6281 869.752 Q47.6125 869.752 44.5569 865.741 Q41.5014 861.699 41.5014 853.71 L41.5014 845.498 L40.9285 845.498 Q36.8862 845.498 34.6901 848.172 Q32.4621 850.814 32.4621 855.62 Q32.4621 858.676 33.1941 861.572 Q33.9262 864.468 35.3903 867.142 L29.9795 867.142 Q28.7381 863.927 28.1334 860.904 Q27.4968 857.88 27.4968 855.015 Q27.4968 847.281 31.5072 843.461 Q35.5176 839.642 43.6657 839.642 Z\" fill=\"#000000\" fill-rule=\"evenodd\" fill-opacity=\"1\" /><path clip-path=\"url(#clip580)\" d=\"M45.7664 804.121 Q39.4007 804.121 35.8996 806.763 Q32.3984 809.373 32.3984 814.116 Q32.3984 818.826 35.8996 821.468 Q39.4007 824.078 45.7664 824.078 Q52.1003 824.078 55.6014 821.468 Q59.1026 818.826 59.1026 814.116 Q59.1026 809.373 55.6014 806.763 Q52.1003 804.121 45.7664 804.121 M59.58 798.265 Q68.683 798.265 73.1071 802.307 Q77.5631 806.349 77.5631 814.688 Q77.5631 817.776 77.0857 820.513 Q76.6401 823.25 75.6852 825.828 L69.9879 825.828 Q71.3884 823.25 72.0568 820.736 Q72.7252 818.221 72.7252 815.611 Q72.7252 809.851 69.7015 806.986 Q66.7096 804.121 60.6303 804.121 L57.7339 804.121 Q60.885 805.936 62.4446 808.768 Q64.0042 811.601 64.0042 815.548 Q64.0042 822.105 59.0071 826.115 Q54.01 830.125 45.7664 830.125 Q37.491 830.125 32.4939 826.115 Q27.4968 822.105 27.4968 815.548 Q27.4968 811.601 29.0564 808.768 Q30.616 805.936 33.7671 804.121 L28.3562 804.121 L28.3562 798.265 L59.58 798.265 Z\" fill=\"#000000\" fill-rule=\"evenodd\" fill-opacity=\"1\" /><path clip-path=\"url(#clip580)\" d=\"M44.7161 755.71 L47.5806 755.71 L47.5806 782.637 Q53.6281 782.255 56.8109 779.009 Q59.9619 775.73 59.9619 769.906 Q59.9619 766.532 59.1344 763.381 Q58.3069 760.198 56.6518 757.079 L62.1899 757.079 Q63.5267 760.23 64.227 763.54 Q64.9272 766.85 64.9272 770.256 Q64.9272 778.786 59.9619 783.783 Q54.9967 788.748 46.5303 788.748 Q37.7774 788.748 32.6531 784.038 Q27.4968 779.295 27.4968 771.274 Q27.4968 764.081 32.1438 759.912 Q36.7589 755.71 44.7161 755.71 M42.9973 761.567 Q38.1912 761.63 35.3266 764.272 Q32.4621 766.882 32.4621 771.211 Q32.4621 776.112 35.2312 779.072 Q38.0002 782.001 43.0292 782.446 L42.9973 761.567 Z\" fill=\"#000000\" fill-rule=\"evenodd\" fill-opacity=\"1\" /><path clip-path=\"url(#clip580)\" d=\"M43.5384 728.338 L43.5384 711.182 L48.7583 711.182 L48.7583 728.338 L43.5384 728.338 Z\" fill=\"#000000\" fill-rule=\"evenodd\" fill-opacity=\"1\" /><path clip-path=\"url(#clip580)\" d=\"M28.3562 685.337 L28.3562 679.131 L58.275 667.991 L28.3562 656.851 L28.3562 650.644 L64.0042 664.012 L64.0042 671.969 L28.3562 685.337 Z\" fill=\"#000000\" fill-rule=\"evenodd\" fill-opacity=\"1\" /><path clip-path=\"url(#clip580)\" d=\"M14.479 622.38 L14.479 608.885 L19.0304 608.885 L19.0304 616.524 L68.0464 616.524 L68.0464 608.885 L72.5979 608.885 L72.5979 622.38 L14.479 622.38 Z\" fill=\"#000000\" fill-rule=\"evenodd\" fill-opacity=\"1\" /><path clip-path=\"url(#clip580)\" d=\"M64.0042 583.9 L16.4842 602.042 L16.4842 595.326 L56.4926 580.271 L16.4842 565.185 L16.4842 558.501 L64.0042 576.611 L64.0042 583.9 Z\" fill=\"#000000\" fill-rule=\"evenodd\" fill-opacity=\"1\" /><path clip-path=\"url(#clip580)\" d=\"M14.479 538.13 L72.5979 538.13 L72.5979 551.626 L68.0464 551.626 L68.0464 544.019 L19.0304 544.019 L19.0304 551.626 L14.479 551.626 L14.479 538.13 Z\" fill=\"#000000\" fill-rule=\"evenodd\" fill-opacity=\"1\" /><path clip-path=\"url(#clip580)\" d=\"M965.737 18.8205 L965.737 65.8515 L975.621 65.8515 Q988.138 65.8515 993.931 60.1802 Q999.765 54.509 999.765 42.2752 Q999.765 30.1225 993.931 24.4918 Q988.138 18.8205 975.621 18.8205 L965.737 18.8205 M957.554 12.096 L974.365 12.096 Q991.946 12.096 1000.17 19.4281 Q1008.39 26.7198 1008.39 42.2752 Q1008.39 57.9117 1000.13 65.2439 Q991.865 72.576 974.365 72.576 L957.554 72.576 L957.554 12.096 Z\" fill=\"#000000\" fill-rule=\"evenodd\" fill-opacity=\"1\" /><path clip-path=\"url(#clip580)\" d=\"M1047.4 34.1734 Q1046.15 33.4443 1044.65 33.1202 Q1043.19 32.7556 1041.41 32.7556 Q1035.09 32.7556 1031.69 36.8875 Q1028.32 40.9789 1028.32 48.6757 L1028.32 72.576 L1020.83 72.576 L1020.83 27.2059 L1028.32 27.2059 L1028.32 34.2544 Q1030.67 30.1225 1034.44 28.1376 Q1038.21 26.1121 1043.6 26.1121 Q1044.37 26.1121 1045.3 26.2337 Q1046.23 26.3147 1047.36 26.5172 L1047.4 34.1734 Z\" fill=\"#000000\" fill-rule=\"evenodd\" fill-opacity=\"1\" /><path clip-path=\"url(#clip580)\" d=\"M1055.22 27.2059 L1062.68 27.2059 L1062.68 72.576 L1055.22 72.576 L1055.22 27.2059 M1055.22 9.54393 L1062.68 9.54393 L1062.68 18.9825 L1055.22 18.9825 L1055.22 9.54393 Z\" fill=\"#000000\" fill-rule=\"evenodd\" fill-opacity=\"1\" /><path clip-path=\"url(#clip580)\" d=\"M1072.92 27.2059 L1080.82 27.2059 L1095 65.2844 L1109.18 27.2059 L1117.08 27.2059 L1100.06 72.576 L1089.94 72.576 L1072.92 27.2059 Z\" fill=\"#000000\" fill-rule=\"evenodd\" fill-opacity=\"1\" /><path clip-path=\"url(#clip580)\" d=\"M1166.18 48.0275 L1166.18 51.6733 L1131.91 51.6733 Q1132.39 59.3701 1136.52 63.421 Q1140.7 67.4314 1148.11 67.4314 Q1152.4 67.4314 1156.41 66.3781 Q1160.46 65.3249 1164.43 63.2184 L1164.43 70.267 Q1160.42 71.9684 1156.21 72.8596 Q1152 73.7508 1147.66 73.7508 Q1136.81 73.7508 1130.45 67.4314 Q1124.13 61.1119 1124.13 50.3365 Q1124.13 39.1965 1130.12 32.6746 Q1136.16 26.1121 1146.37 26.1121 Q1155.52 26.1121 1160.83 32.0264 Q1166.18 37.9003 1166.18 48.0275 M1158.72 45.84 Q1158.64 39.7232 1155.28 36.0774 Q1151.96 32.4315 1146.45 32.4315 Q1140.21 32.4315 1136.44 35.9558 Q1132.72 39.4801 1132.15 45.8805 L1158.72 45.84 Z\" fill=\"#000000\" fill-rule=\"evenodd\" fill-opacity=\"1\" /><path clip-path=\"url(#clip580)\" d=\"M1216.12 45.1919 L1216.12 72.576 L1208.67 72.576 L1208.67 45.4349 Q1208.67 38.994 1206.16 35.7938 Q1203.65 32.5936 1198.62 32.5936 Q1192.59 32.5936 1189.1 36.4419 Q1185.62 40.2903 1185.62 46.9338 L1185.62 72.576 L1178.13 72.576 L1178.13 27.2059 L1185.62 27.2059 L1185.62 34.2544 Q1188.29 30.163 1191.9 28.1376 Q1195.54 26.1121 1200.28 26.1121 Q1208.1 26.1121 1212.11 30.9732 Q1216.12 35.7938 1216.12 45.1919 Z\" fill=\"#000000\" fill-rule=\"evenodd\" fill-opacity=\"1\" /><path clip-path=\"url(#clip580)\" d=\"M1286.37 44.2197 Q1289 45.1109 1291.47 48.0275 Q1293.98 50.9442 1296.49 56.0483 L1304.8 72.576 L1296.01 72.576 L1288.27 57.061 Q1285.27 50.9847 1282.44 48.9997 Q1279.64 47.0148 1274.78 47.0148 L1265.87 47.0148 L1265.87 72.576 L1257.69 72.576 L1257.69 12.096 L1276.16 12.096 Q1286.53 12.096 1291.63 16.4305 Q1296.74 20.7649 1296.74 29.5149 Q1296.74 35.2267 1294.06 38.994 Q1291.43 42.7613 1286.37 44.2197 M1265.87 18.8205 L1265.87 40.2903 L1276.16 40.2903 Q1282.07 40.2903 1285.07 37.5762 Q1288.11 34.8216 1288.11 29.5149 Q1288.11 24.2082 1285.07 21.5346 Q1282.07 18.8205 1276.16 18.8205 L1265.87 18.8205 Z\" fill=\"#000000\" fill-rule=\"evenodd\" fill-opacity=\"1\" /><path clip-path=\"url(#clip580)\" d=\"M1356.49 16.7545 L1356.49 25.383 Q1352.36 21.5346 1347.66 19.6307 Q1343 17.7268 1337.73 17.7268 Q1327.36 17.7268 1321.85 24.0867 Q1316.34 30.4061 1316.34 42.3968 Q1316.34 54.3469 1321.85 60.7069 Q1327.36 67.0263 1337.73 67.0263 Q1343 67.0263 1347.66 65.1223 Q1352.36 63.2184 1356.49 59.3701 L1356.49 67.9175 Q1352.19 70.8341 1347.37 72.2924 Q1342.59 73.7508 1337.25 73.7508 Q1323.51 73.7508 1315.61 65.3654 Q1307.71 56.9395 1307.71 42.3968 Q1307.71 27.8135 1315.61 19.4281 Q1323.51 11.0023 1337.25 11.0023 Q1342.67 11.0023 1347.45 12.4606 Q1352.27 13.8784 1356.49 16.7545 Z\" fill=\"#000000\" fill-rule=\"evenodd\" fill-opacity=\"1\" /><path clip-path=\"url(#clip580)\" d=\"M1440.79 16.7545 L1440.79 25.383 Q1436.65 21.5346 1431.96 19.6307 Q1427.3 17.7268 1422.03 17.7268 Q1411.66 17.7268 1406.15 24.0867 Q1400.64 30.4061 1400.64 42.3968 Q1400.64 54.3469 1406.15 60.7069 Q1411.66 67.0263 1422.03 67.0263 Q1427.3 67.0263 1431.96 65.1223 Q1436.65 63.2184 1440.79 59.3701 L1440.79 67.9175 Q1436.49 70.8341 1431.67 72.2924 Q1426.89 73.7508 1421.54 73.7508 Q1407.81 73.7508 1399.91 65.3654 Q1392.01 56.9395 1392.01 42.3968 Q1392.01 27.8135 1399.91 19.4281 Q1407.81 11.0023 1421.54 11.0023 Q1426.97 11.0023 1431.75 12.4606 Q1436.57 13.8784 1440.79 16.7545 Z\" fill=\"#000000\" fill-rule=\"evenodd\" fill-opacity=\"1\" /><path clip-path=\"url(#clip580)\" d=\"M1453.1 27.2059 L1460.55 27.2059 L1460.55 72.576 L1453.1 72.576 L1453.1 27.2059 M1453.1 9.54393 L1460.55 9.54393 L1460.55 18.9825 L1453.1 18.9825 L1453.1 9.54393 Z\" fill=\"#000000\" fill-rule=\"evenodd\" fill-opacity=\"1\" /><path clip-path=\"url(#clip580)\" d=\"M1502.44 34.1734 Q1501.19 33.4443 1499.69 33.1202 Q1498.23 32.7556 1496.45 32.7556 Q1490.13 32.7556 1486.72 36.8875 Q1483.36 40.9789 1483.36 48.6757 L1483.36 72.576 L1475.87 72.576 L1475.87 27.2059 L1483.36 27.2059 L1483.36 34.2544 Q1485.71 30.1225 1489.48 28.1376 Q1493.25 26.1121 1498.63 26.1121 Q1499.4 26.1121 1500.33 26.2337 Q1501.27 26.3147 1502.4 26.5172 L1502.44 34.1734 Z\" fill=\"#000000\" fill-rule=\"evenodd\" fill-opacity=\"1\" /><path clip-path=\"url(#clip580)\" d=\"M1541.09 28.9478 L1541.09 35.9153 Q1537.93 34.1734 1534.73 33.3227 Q1531.57 32.4315 1528.33 32.4315 Q1521.08 32.4315 1517.07 37.0496 Q1513.05 41.6271 1513.05 49.9314 Q1513.05 58.2358 1517.07 62.8538 Q1521.08 67.4314 1528.33 67.4314 Q1531.57 67.4314 1534.73 66.5807 Q1537.93 65.6895 1541.09 63.9476 L1541.09 70.8341 Q1537.97 72.2924 1534.61 73.0216 Q1531.28 73.7508 1527.52 73.7508 Q1517.27 73.7508 1511.23 67.3098 Q1505.2 60.8689 1505.2 49.9314 Q1505.2 38.832 1511.27 32.472 Q1517.39 26.1121 1528 26.1121 Q1531.45 26.1121 1534.73 26.8413 Q1538.01 27.5299 1541.09 28.9478 Z\" fill=\"#000000\" fill-rule=\"evenodd\" fill-opacity=\"1\" /><path clip-path=\"url(#clip580)\" d=\"M1553.28 54.671 L1553.28 27.2059 L1560.73 27.2059 L1560.73 54.3874 Q1560.73 60.8284 1563.25 64.0691 Q1565.76 67.2693 1570.78 67.2693 Q1576.82 67.2693 1580.3 63.421 Q1583.82 59.5726 1583.82 52.9291 L1583.82 27.2059 L1591.28 27.2059 L1591.28 72.576 L1583.82 72.576 L1583.82 65.6084 Q1581.11 69.7404 1577.5 71.7658 Q1573.94 73.7508 1569.2 73.7508 Q1561.38 73.7508 1557.33 68.8897 Q1553.28 64.0286 1553.28 54.671 M1572.04 26.1121 L1572.04 26.1121 Z\" fill=\"#000000\" fill-rule=\"evenodd\" fill-opacity=\"1\" /><path clip-path=\"url(#clip580)\" d=\"M1606.63 27.2059 L1614.08 27.2059 L1614.08 72.576 L1606.63 72.576 L1606.63 27.2059 M1606.63 9.54393 L1614.08 9.54393 L1614.08 18.9825 L1606.63 18.9825 L1606.63 9.54393 Z\" fill=\"#000000\" fill-rule=\"evenodd\" fill-opacity=\"1\" /><path clip-path=\"url(#clip580)\" d=\"M1637.05 14.324 L1637.05 27.2059 L1652.41 27.2059 L1652.41 32.9987 L1637.05 32.9987 L1637.05 57.6282 Q1637.05 63.1779 1638.55 64.7578 Q1640.09 66.3376 1644.75 66.3376 L1652.41 66.3376 L1652.41 72.576 L1644.75 72.576 Q1636.12 72.576 1632.84 69.3758 Q1629.56 66.1351 1629.56 57.6282 L1629.56 32.9987 L1624.09 32.9987 L1624.09 27.2059 L1629.56 27.2059 L1629.56 14.324 L1637.05 14.324 Z\" fill=\"#000000\" fill-rule=\"evenodd\" fill-opacity=\"1\" /><polyline clip-path=\"url(#clip582)\" style=\"stroke:#009af9; stroke-linecap:butt; stroke-linejoin:round; stroke-width:4; stroke-opacity:1; fill:none\" points=\"\n",
       "  257.204,767.103 292.41,461.089 311.878,322.995 340.11,191.867 366.046,160.622 399.192,251.61 425.613,415.618 454.067,652.181 481.019,896.013 508.603,1123.75 \n",
       "  536.182,1291.34 564.88,1371.69 597.248,1330.13 626.203,1181.83 654.818,959.547 682.61,709.842 710.265,471.022 737.956,282.179 766.282,174.409 796.789,176.241 \n",
       "  827.892,303.012 856.165,505.377 884.589,755.441 912.264,1001.3 940.134,1208.65 968.322,1340.99 998.08,1370.94 1032.37,1259.7 1060.17,1073.52 1089.38,822.073 \n",
       "  1117.03,573.739 1145.11,355.194 1173.21,208.554 1202.67,159.909 1243.51,283.131 1266.53,435.91 1295.89,684.545 1321.61,917.023 1349.11,1140.37 1376.12,1299.06 \n",
       "  1404.63,1372.92 1437.23,1323.91 1465.85,1172.24 1494.52,946.7 1522.25,697.022 1549.96,459.375 1577.69,273.977 1606.14,171.3 1636.98,180.672 1667.6,311.89 \n",
       "  1695.95,518.286 1724.23,768.411 1751.9,1013.13 1779.72,1217.11 1807.92,1344.99 1837.77,1369.3 1871.19,1256.46 1899.12,1067.73 1928.12,817.334 1955.77,569.232 \n",
       "  1983.79,352.167 2011.88,206.955 2041.34,160.075 2079.59,271.607 2105.09,438.56 2134.66,689.506 2161.48,931.534 2189.41,1155.15 2217.04,1310.54 2246.06,1374.46 \n",
       "  2280.88,1302.3 2309.03,1137.48 2338.34,897.401 2352.76,767.103 \n",
       "  \"/>\n",
       "<polyline clip-path=\"url(#clip582)\" style=\"stroke:#e26f46; stroke-linecap:butt; stroke-linejoin:round; stroke-width:12; stroke-opacity:1; fill:none\" points=\"\n",
       "  257.204,767.103 259.302,767.007 261.399,766.723 263.497,766.251 265.595,765.595 267.692,764.756 269.79,763.738 271.888,762.543 273.985,761.174 276.083,759.634 \n",
       "  278.181,757.927 280.278,756.057 282.376,754.025 284.473,751.837 286.571,749.497 288.669,747.007 290.766,744.373 292.864,741.598 294.962,738.687 297.059,735.645 \n",
       "  299.157,732.475 301.255,729.183 303.352,725.774 305.45,722.252 307.548,718.622 309.645,714.89 311.743,711.061 313.841,707.14 315.938,703.132 318.036,699.043 \n",
       "  320.134,694.878 322.231,690.643 324.329,686.343 326.426,681.984 328.524,677.572 330.622,673.113 332.719,668.611 334.817,664.074 336.915,659.506 339.012,654.914 \n",
       "  341.11,650.304 343.208,645.681 345.305,641.051 347.403,636.42 349.501,631.794 351.598,627.179 353.696,622.58 355.794,618.004 357.891,613.455 359.989,608.94 \n",
       "  362.087,604.465 364.184,600.034 366.282,595.653 368.379,591.329 370.477,587.066 372.575,582.869 374.672,578.745 376.77,574.697 378.868,570.732 380.965,566.853 \n",
       "  383.063,563.067 385.161,559.378 387.258,555.79 389.356,552.309 391.454,548.938 393.551,545.681 395.649,542.545 397.747,539.531 399.844,536.645 401.942,533.889 \n",
       "  404.039,531.269 406.137,528.786 408.235,526.446 410.332,524.25 412.43,522.203 414.528,520.306 416.625,518.563 418.723,516.977 420.821,515.549 422.918,514.283 \n",
       "  425.016,513.18 427.114,512.242 429.211,511.471 431.309,510.869 433.407,510.436 435.504,510.175 437.602,510.087 439.7,510.172 441.797,510.43 443.895,510.864 \n",
       "  445.992,511.472 448.09,512.255 450.188,513.214 452.285,514.347 454.383,515.655 456.481,517.137 458.578,518.792 460.676,520.619 462.774,522.618 464.871,524.787 \n",
       "  466.969,527.125 469.067,529.629 471.164,532.299 473.262,535.132 475.36,538.126 477.457,541.279 479.555,544.589 481.653,548.052 483.75,551.667 485.848,555.43 \n",
       "  487.945,559.337 490.043,563.387 492.141,567.575 494.238,571.898 496.336,576.352 498.434,580.934 500.531,585.64 502.629,590.465 504.727,595.405 506.824,600.457 \n",
       "  508.922,605.615 511.02,610.875 513.117,616.233 515.215,621.684 517.313,627.223 519.41,632.844 521.508,638.544 523.606,644.317 525.703,650.157 527.801,656.06 \n",
       "  529.898,662.02 531.996,668.032 534.094,674.091 536.191,680.19 538.289,686.325 540.387,692.49 542.484,698.679 544.582,704.886 546.68,711.107 548.777,717.335 \n",
       "  550.875,723.565 552.973,729.79 555.07,736.006 557.168,742.206 559.266,748.386 561.363,754.538 563.461,760.659 565.559,766.741 567.656,772.779 569.754,778.769 \n",
       "  571.851,784.704 573.949,790.579 576.047,796.389 578.144,802.127 580.242,807.79 582.34,813.372 584.437,818.868 586.535,824.272 588.633,829.579 590.73,834.786 \n",
       "  592.828,839.887 594.926,844.877 597.023,849.753 599.121,854.508 601.219,859.14 603.316,863.644 605.414,868.016 607.511,872.252 609.609,876.347 611.707,880.299 \n",
       "  613.804,884.104 615.902,887.759 618,891.259 620.097,894.603 622.195,897.786 624.293,900.807 626.39,903.663 628.488,906.35 630.586,908.868 632.683,911.213 \n",
       "  634.781,913.383 636.879,915.378 638.976,917.194 641.074,918.832 643.172,920.288 645.269,921.563 647.367,922.655 649.464,923.563 651.562,924.288 653.66,924.828 \n",
       "  655.757,925.182 657.855,925.353 659.953,925.338 662.05,925.139 664.148,924.756 666.246,924.189 668.343,923.44 670.441,922.51 672.539,921.399 674.636,920.11 \n",
       "  676.734,918.643 678.832,917 680.929,915.183 683.027,913.195 685.125,911.037 687.222,908.712 689.32,906.223 691.417,903.571 693.515,900.761 695.613,897.794 \n",
       "  697.71,894.675 699.808,891.406 701.906,887.991 704.003,884.434 706.101,880.738 708.199,876.907 710.296,872.945 712.394,868.857 714.492,864.646 716.589,860.317 \n",
       "  718.687,855.875 720.785,851.324 722.882,846.668 724.98,841.913 727.078,837.064 729.175,832.125 731.273,827.102 733.37,821.999 735.468,816.823 737.566,811.578 \n",
       "  739.663,806.269 741.761,800.903 743.859,795.484 745.956,790.018 748.054,784.512 750.152,778.969 752.249,773.397 754.347,767.8 756.445,762.185 758.542,756.557 \n",
       "  760.64,750.922 762.738,745.286 764.835,739.654 766.933,734.033 769.031,728.427 771.128,722.843 773.226,717.286 775.323,711.762 777.421,706.277 779.519,700.836 \n",
       "  781.616,695.445 783.714,690.108 785.812,684.833 787.909,679.623 790.007,674.485 792.105,669.423 794.202,664.443 796.3,659.55 798.398,654.749 800.495,650.044 \n",
       "  802.593,645.441 804.691,640.943 806.788,636.557 808.886,632.285 810.984,628.134 813.081,624.106 815.179,620.206 817.276,616.438 819.374,612.805 821.472,609.313 \n",
       "  823.569,605.963 825.667,602.76 827.765,599.706 829.862,596.806 831.96,594.061 834.058,591.476 836.155,589.051 838.253,586.791 840.351,584.697 842.448,582.772 \n",
       "  844.546,581.017 846.644,579.435 848.741,578.027 850.839,576.794 852.936,575.739 855.034,574.861 857.132,574.162 859.229,573.644 861.327,573.305 863.425,573.148 \n",
       "  865.522,573.172 867.62,573.377 869.718,573.764 871.815,574.331 873.913,575.079 876.011,576.006 878.108,577.113 880.206,578.397 882.304,579.859 884.401,581.496 \n",
       "  886.499,583.306 888.597,585.289 890.694,587.443 892.792,589.764 894.889,592.252 896.987,594.904 899.085,597.717 901.182,600.688 903.28,603.816 905.378,607.096 \n",
       "  907.475,610.525 909.573,614.101 911.671,617.819 913.768,621.677 915.866,625.67 917.964,629.795 920.061,634.047 922.159,638.423 924.257,642.918 926.354,647.528 \n",
       "  928.452,652.248 930.55,657.075 932.647,662.002 934.745,667.025 936.842,672.14 938.94,677.342 941.038,682.625 943.135,687.984 945.233,693.414 947.331,698.909 \n",
       "  949.428,704.466 951.526,710.076 953.624,715.737 955.721,721.441 957.819,727.184 959.917,732.959 962.014,738.762 964.112,744.585 966.21,750.425 968.307,756.274 \n",
       "  970.405,762.128 972.503,767.981 974.6,773.826 976.698,779.658 978.795,785.472 980.893,791.261 982.991,797.021 985.088,802.745 987.186,808.427 989.284,814.063 \n",
       "  991.381,819.647 993.479,825.173 995.577,830.636 997.674,836.031 999.772,841.351 1001.87,846.593 1003.97,851.751 1006.06,856.82 1008.16,861.794 1010.26,866.67 \n",
       "  1012.36,871.441 1014.46,876.105 1016.55,880.655 1018.65,885.088 1020.75,889.4 1022.85,893.585 1024.94,897.641 1027.04,901.562 1029.14,905.346 1031.24,908.988 \n",
       "  1033.33,912.485 1035.43,915.833 1037.53,919.03 1039.63,922.072 1041.72,924.956 1043.82,927.68 1045.92,930.24 1048.02,932.635 1050.12,934.861 1052.21,936.917 \n",
       "  1054.31,938.801 1056.41,940.511 1058.51,942.046 1060.6,943.403 1062.7,944.581 1064.8,945.58 1066.9,946.399 1068.99,947.036 1071.09,947.491 1073.19,947.764 \n",
       "  1075.29,947.854 1077.38,947.762 1079.48,947.488 1081.58,947.031 1083.68,946.392 1085.78,945.573 1087.87,944.573 1089.97,943.394 1092.07,942.038 1094.17,940.504 \n",
       "  1096.26,938.796 1098.36,936.915 1100.46,934.862 1102.56,932.64 1104.65,930.25 1106.75,927.696 1108.85,924.98 1110.95,922.105 1113.05,919.073 1115.14,915.887 \n",
       "  1117.24,912.552 1119.34,909.069 1121.44,905.443 1123.53,901.676 1125.63,897.774 1127.73,893.739 1129.83,889.577 1131.92,885.29 1134.02,880.883 1136.12,876.361 \n",
       "  1138.22,871.728 1140.31,866.989 1142.41,862.148 1144.51,857.21 1146.61,852.18 1148.71,847.064 1150.8,841.865 1152.9,836.591 1155,831.244 1157.1,825.832 \n",
       "  1159.19,820.359 1161.29,814.831 1163.39,809.253 1165.49,803.63 1167.58,797.969 1169.68,792.276 1171.78,786.554 1173.88,780.811 1175.97,775.053 1178.07,769.283 \n",
       "  1180.17,763.51 1182.27,757.737 1184.37,751.972 1186.46,746.219 1188.56,740.485 1190.66,734.774 1192.76,729.094 1194.85,723.449 1196.95,717.844 1199.05,712.287 \n",
       "  1201.15,706.781 1203.24,701.333 1205.34,695.948 1207.44,690.631 1209.54,685.388 1211.63,680.223 1213.73,675.143 1215.83,670.151 1217.93,665.253 1220.03,660.454 \n",
       "  1222.12,655.759 1224.22,651.172 1226.32,646.697 1228.42,642.34 1230.51,638.104 1232.61,633.994 1234.71,630.014 1236.81,626.167 1238.9,622.458 1241,618.89 \n",
       "  1243.1,615.467 1245.2,612.193 1247.29,609.07 1249.39,606.101 1251.49,603.29 1253.59,600.639 1255.69,598.151 1257.78,595.829 1259.88,593.674 1261.98,591.69 \n",
       "  1264.08,589.877 1266.17,588.238 1268.27,586.774 1270.37,585.487 1272.47,584.378 1274.56,583.448 1276.66,582.698 1278.76,582.129 1280.86,581.742 1282.95,581.536 \n",
       "  1285.05,581.513 1287.15,581.672 1289.25,582.012 1291.35,582.535 1293.44,583.238 1295.54,584.122 1297.64,585.185 1299.74,586.427 1301.83,587.847 1303.93,589.442 \n",
       "  1306.03,591.211 1308.13,593.154 1310.22,595.267 1312.32,597.549 1314.42,599.997 1316.52,602.609 1318.61,605.383 1320.71,608.315 1322.81,611.403 1324.91,614.644 \n",
       "  1327.01,618.034 1329.1,621.571 1331.2,625.251 1333.3,629.069 1335.4,633.023 1337.49,637.109 1339.59,641.322 1341.69,645.658 1343.79,650.113 1345.88,654.683 \n",
       "  1347.98,659.363 1350.08,664.148 1352.18,669.035 1354.27,674.017 1356.37,679.09 1358.47,684.249 1360.57,689.489 1362.67,694.805 1364.76,700.191 1366.86,705.643 \n",
       "  1368.96,711.154 1371.06,716.72 1373.15,722.335 1375.25,727.993 1377.35,733.689 1379.45,739.417 1381.54,745.171 1383.64,750.946 1385.74,756.736 1387.84,762.536 \n",
       "  1389.93,768.339 1392.03,774.14 1394.13,779.934 1396.23,785.714 1398.33,791.474 1400.42,797.21 1402.52,802.915 1404.62,808.584 1406.72,814.211 1408.81,819.791 \n",
       "  1410.91,825.317 1413.01,830.786 1415.11,836.191 1417.2,841.526 1419.3,846.788 1421.4,851.969 1423.5,857.066 1425.59,862.074 1427.69,866.986 1429.79,871.8 \n",
       "  1431.89,876.509 1433.99,881.109 1436.08,885.596 1438.18,889.964 1440.28,894.211 1442.38,898.331 1444.47,902.321 1446.57,906.177 1448.67,909.894 1450.77,913.469 \n",
       "  1452.86,916.899 1454.96,920.181 1457.06,923.31 1459.16,926.284 1461.25,929.1 1463.35,931.756 1465.45,934.248 1467.55,936.574 1469.65,938.732 1471.74,940.719 \n",
       "  1473.84,942.535 1475.94,944.176 1478.04,945.642 1480.13,946.93 1482.23,948.04 1484.33,948.971 1486.43,949.721 1488.52,950.29 1490.62,950.678 1492.72,950.883 \n",
       "  1494.82,950.906 1496.91,950.747 1499.01,950.406 1501.11,949.883 1503.21,949.178 1505.31,948.294 1507.4,947.229 1509.5,945.986 1511.6,944.565 1513.7,942.969 \n",
       "  1515.79,941.198 1517.89,939.255 1519.99,937.141 1522.09,934.858 1524.18,932.409 1526.28,929.796 1528.38,927.021 1530.48,924.088 1532.57,921 1534.67,917.759 \n",
       "  1536.77,914.368 1538.87,910.831 1540.97,907.152 1543.06,903.334 1545.16,899.381 1547.26,895.296 1549.36,891.084 1551.45,886.75 1553.55,882.296 1555.65,877.729 \n",
       "  1557.75,873.051 1559.84,868.269 1561.94,863.386 1564.04,858.407 1566.14,853.338 1568.23,848.183 1570.33,842.947 1572.43,837.637 1574.53,832.256 1576.63,826.81 \n",
       "  1578.72,821.305 1580.82,815.746 1582.92,810.138 1585.02,804.488 1587.11,798.8 1589.21,793.081 1591.31,787.335 1593.41,781.57 1595.5,775.789 1597.6,770 \n",
       "  1599.7,764.207 1601.8,758.418 1603.9,752.636 1605.99,746.868 1608.09,741.12 1610.19,735.398 1612.29,729.706 1614.38,724.051 1616.48,718.439 1618.58,712.874 \n",
       "  1620.68,707.363 1622.77,701.91 1624.87,696.522 1626.97,691.203 1629.07,685.959 1631.16,680.794 1633.26,675.715 1635.36,670.726 1637.46,665.832 1639.56,661.038 \n",
       "  1641.65,656.349 1643.75,651.769 1645.85,647.302 1647.95,642.954 1650.04,638.728 1652.14,634.63 1654.24,630.661 1656.34,626.828 1658.43,623.133 1660.53,619.58 \n",
       "  1662.63,616.172 1664.73,612.914 1666.82,609.808 1668.92,606.857 1671.02,604.065 1673.12,601.433 1675.22,598.965 1677.31,596.663 1679.41,594.53 1681.51,592.567 \n",
       "  1683.61,590.776 1685.7,589.159 1687.8,587.719 1689.9,586.455 1692,585.37 1694.09,584.464 1696.19,583.739 1698.29,583.194 1700.39,582.832 1702.48,582.651 \n",
       "  1704.58,582.653 1706.68,582.837 1708.78,583.203 1710.88,583.75 1712.97,584.479 1715.07,585.388 1717.17,586.477 1719.27,587.744 1721.36,589.188 1723.46,590.808 \n",
       "  1725.56,592.602 1727.66,594.569 1729.75,596.706 1731.85,599.011 1733.95,601.482 1736.05,604.117 1738.14,606.913 1740.24,609.867 1742.34,612.977 1744.44,616.239 \n",
       "  1746.54,619.649 1748.63,623.206 1750.73,626.904 1752.83,630.741 1754.93,634.713 1757.02,638.816 1759.12,643.045 1761.22,647.397 1763.32,651.867 1765.41,656.45 \n",
       "  1767.51,661.143 1769.61,665.941 1771.71,670.839 1773.8,675.831 1775.9,680.914 1778,686.082 1780.1,691.33 1782.2,696.652 1784.29,702.044 1786.39,707.501 \n",
       "  1788.49,713.016 1790.59,718.584 1792.68,724.201 1794.78,729.859 1796.88,735.555 1798.98,741.281 1801.07,747.033 1803.17,752.805 1805.27,758.59 1807.37,764.384 \n",
       "  1809.46,770.181 1811.56,775.974 1813.66,781.758 1815.76,787.528 1817.86,793.278 1819.95,799.001 1822.05,804.693 1824.15,810.348 1826.25,815.959 1828.34,821.523 \n",
       "  1830.44,827.032 1832.54,832.482 1834.64,837.867 1836.73,843.182 1838.83,848.422 1840.93,853.581 1843.03,858.655 1845.12,863.638 1847.22,868.526 1849.32,873.313 \n",
       "  1851.42,877.995 1853.52,882.567 1855.61,887.025 1857.71,891.364 1859.81,895.581 1861.91,899.67 1864,903.628 1866.1,907.451 1868.2,911.135 1870.3,914.676 \n",
       "  1872.39,918.072 1874.49,921.318 1876.59,924.412 1878.69,927.349 1880.78,930.129 1882.88,932.747 1884.98,935.201 1887.08,937.489 1889.18,939.608 1891.27,941.557 \n",
       "  1893.37,943.333 1895.47,944.935 1897.57,946.361 1899.66,947.609 1901.76,948.679 1903.86,949.569 1905.96,950.279 1908.05,950.808 1910.15,951.154 1912.25,951.319 \n",
       "  1914.35,951.302 1916.44,951.102 1918.54,950.72 1920.64,950.157 1922.74,949.412 1924.84,948.488 1926.93,947.383 1929.03,946.101 1931.13,944.641 1933.23,943.006 \n",
       "  1935.32,941.197 1937.42,939.215 1939.52,937.063 1941.62,934.744 1943.71,932.258 1945.81,929.609 1947.91,926.799 1950.01,923.831 1952.1,920.708 1954.2,917.434 \n",
       "  1956.3,914.01 1958.4,910.441 1960.5,906.731 1962.59,902.882 1964.69,898.899 1966.79,894.785 1968.89,890.545 1970.98,886.183 1973.08,881.704 1975.18,877.111 \n",
       "  1977.28,872.409 1979.37,867.603 1981.47,862.697 1983.57,857.697 1985.67,852.607 1987.76,847.433 1989.86,842.179 1991.96,836.851 1994.06,831.454 1996.16,825.993 \n",
       "  1998.25,820.474 2000.35,814.902 2002.45,809.283 2004.55,803.621 2006.64,797.924 2008.74,792.197 2010.84,786.444 2012.94,780.672 2015.03,774.887 2017.13,769.094 \n",
       "  2019.23,763.299 2021.33,757.508 2023.42,751.726 2025.52,745.96 2027.62,740.214 2029.72,734.495 2031.82,728.808 2033.91,723.159 2036.01,717.553 2038.11,711.996 \n",
       "  2040.21,706.494 2042.3,701.051 2044.4,695.674 2046.5,690.367 2048.6,685.137 2050.69,679.987 2052.79,674.923 2054.89,669.951 2056.99,665.074 2059.08,660.299 \n",
       "  2061.18,655.629 2063.28,651.069 2065.38,646.624 2067.48,642.298 2069.57,638.095 2071.67,634.02 2073.77,630.077 2075.87,626.268 2077.96,622.6 2080.06,619.074 \n",
       "  2082.16,615.694 2084.26,612.464 2086.35,609.387 2088.45,606.466 2090.55,603.704 2092.65,601.103 2094.75,598.666 2096.84,596.396 2098.94,594.295 2101.04,592.364 \n",
       "  2103.14,590.606 2105.23,589.023 2107.33,587.616 2109.43,586.386 2111.53,585.335 2113.62,584.464 2115.72,583.773 2117.82,583.264 2119.92,582.936 2122.01,582.79 \n",
       "  2124.11,582.827 2126.21,583.046 2128.31,583.447 2130.41,584.029 2132.5,584.792 2134.6,585.736 2136.7,586.859 2138.8,588.16 2140.89,589.638 2142.99,591.292 \n",
       "  2145.09,593.119 2147.19,595.118 2149.28,597.288 2151.38,599.625 2153.48,602.128 2155.58,604.794 2157.67,607.621 2159.77,610.605 2161.87,613.744 2163.97,617.034 \n",
       "  2166.07,620.473 2168.16,624.057 2170.26,627.782 2172.36,631.646 2174.46,635.643 2176.55,639.77 2178.65,644.022 2180.75,648.397 2182.85,652.889 2184.94,657.494 \n",
       "  2187.04,662.207 2189.14,667.024 2191.24,671.94 2193.33,676.95 2195.43,682.049 2197.53,687.232 2199.63,692.494 2201.73,697.83 2203.82,703.234 2205.92,708.702 \n",
       "  2208.02,714.227 2210.12,719.805 2212.21,725.429 2214.31,731.094 2216.41,736.795 2218.51,742.526 2220.6,748.282 2222.7,754.056 2224.8,759.842 2226.9,765.636 \n",
       "  2228.99,771.432 2231.09,777.223 2233.19,783.004 2235.29,788.769 2237.39,794.513 2239.48,800.23 2241.58,805.914 2243.68,811.559 2245.78,817.161 2247.87,822.713 \n",
       "  2249.97,828.21 2252.07,833.647 2254.17,839.018 2256.26,844.317 2258.36,849.541 2260.46,854.682 2262.56,859.738 2264.65,864.701 2266.75,869.568 2268.85,874.334 \n",
       "  2270.95,878.993 2273.05,883.542 2275.14,887.976 2277.24,892.291 2279.34,896.481 2281.44,900.544 2283.53,904.474 2285.63,908.269 2287.73,911.924 2289.83,915.436 \n",
       "  2291.92,918.801 2294.02,922.016 2296.12,925.078 2298.22,927.984 2300.31,930.731 2302.41,933.316 2304.51,935.736 2306.61,937.99 2308.71,940.075 2310.8,941.988 \n",
       "  2312.9,943.729 2315,945.295 2317.1,946.685 2319.19,947.897 2321.29,948.931 2323.39,949.784 2325.49,950.457 2327.58,950.949 2329.68,951.259 2331.78,951.386 \n",
       "  2333.88,951.332 2335.97,951.095 2338.07,950.677 2340.17,950.076 2342.27,949.295 2344.37,948.334 2346.46,947.194 2348.56,945.875 2350.66,944.38 2352.76,942.709 \n",
       "  \n",
       "  \"/>\n",
       "<path clip-path=\"url(#clip580)\" d=\"\n",
       "M1839.28 321.906 L2282.9 321.906 L2282.9 166.386 L1839.28 166.386  Z\n",
       "  \" fill=\"#ffffff\" fill-rule=\"evenodd\" fill-opacity=\"1\"/>\n",
       "<polyline clip-path=\"url(#clip580)\" style=\"stroke:#000000; stroke-linecap:butt; stroke-linejoin:round; stroke-width:4; stroke-opacity:1; fill:none\" points=\"\n",
       "  1839.28,321.906 2282.9,321.906 2282.9,166.386 1839.28,166.386 1839.28,321.906 \n",
       "  \"/>\n",
       "<polyline clip-path=\"url(#clip580)\" style=\"stroke:#009af9; stroke-linecap:butt; stroke-linejoin:round; stroke-width:4; stroke-opacity:1; fill:none\" points=\"\n",
       "  1862.56,218.226 2002.27,218.226 \n",
       "  \"/>\n",
       "<path clip-path=\"url(#clip580)\" d=\"M2044.46 213.516 L2044.46 199.488 L2048.72 199.488 L2048.72 235.506 L2044.46 235.506 L2044.46 231.617 Q2043.12 233.932 2041.06 235.066 Q2039.02 236.178 2036.15 236.178 Q2031.45 236.178 2028.49 232.428 Q2025.55 228.678 2025.55 222.567 Q2025.55 216.455 2028.49 212.705 Q2031.45 208.955 2036.15 208.955 Q2039.02 208.955 2041.06 210.09 Q2043.12 211.201 2044.46 213.516 M2029.95 222.567 Q2029.95 227.266 2031.87 229.951 Q2033.81 232.613 2037.19 232.613 Q2040.57 232.613 2042.52 229.951 Q2044.46 227.266 2044.46 222.567 Q2044.46 217.867 2042.52 215.205 Q2040.57 212.52 2037.19 212.52 Q2033.81 212.52 2031.87 215.205 Q2029.95 217.867 2029.95 222.567 Z\" fill=\"#000000\" fill-rule=\"evenodd\" fill-opacity=\"1\" /><path clip-path=\"url(#clip580)\" d=\"M2072.52 213.562 Q2071.8 213.145 2070.94 212.96 Q2070.11 212.752 2069.09 212.752 Q2065.48 212.752 2063.54 215.113 Q2061.62 217.451 2061.62 221.849 L2061.62 235.506 L2057.33 235.506 L2057.33 209.58 L2061.62 209.58 L2061.62 213.608 Q2062.96 211.247 2065.11 210.113 Q2067.26 208.955 2070.34 208.955 Q2070.78 208.955 2071.31 209.025 Q2071.85 209.071 2072.49 209.187 L2072.52 213.562 Z\" fill=\"#000000\" fill-rule=\"evenodd\" fill-opacity=\"1\" /><path clip-path=\"url(#clip580)\" d=\"M2076.99 209.58 L2081.24 209.58 L2081.24 235.506 L2076.99 235.506 L2076.99 209.58 M2076.99 199.488 L2081.24 199.488 L2081.24 204.881 L2076.99 204.881 L2076.99 199.488 Z\" fill=\"#000000\" fill-rule=\"evenodd\" fill-opacity=\"1\" /><path clip-path=\"url(#clip580)\" d=\"M2087.1 209.58 L2091.61 209.58 L2099.72 231.34 L2107.82 209.58 L2112.33 209.58 L2102.61 235.506 L2096.82 235.506 L2087.1 209.58 Z\" fill=\"#000000\" fill-rule=\"evenodd\" fill-opacity=\"1\" /><path clip-path=\"url(#clip580)\" d=\"M2140.39 221.479 L2140.39 223.562 L2120.8 223.562 Q2121.08 227.96 2123.44 230.275 Q2125.83 232.566 2130.06 232.566 Q2132.52 232.566 2134.81 231.965 Q2137.12 231.363 2139.39 230.159 L2139.39 234.187 Q2137.1 235.159 2134.69 235.668 Q2132.29 236.178 2129.81 236.178 Q2123.61 236.178 2119.97 232.566 Q2116.36 228.955 2116.36 222.798 Q2116.36 216.432 2119.79 212.705 Q2123.24 208.955 2129.07 208.955 Q2134.3 208.955 2137.33 212.335 Q2140.39 215.692 2140.39 221.479 M2136.13 220.229 Q2136.08 216.733 2134.16 214.65 Q2132.26 212.567 2129.11 212.567 Q2125.55 212.567 2123.4 214.58 Q2121.27 216.594 2120.94 220.252 L2136.13 220.229 Z\" fill=\"#000000\" fill-rule=\"evenodd\" fill-opacity=\"1\" /><polyline clip-path=\"url(#clip580)\" style=\"stroke:#e26f46; stroke-linecap:butt; stroke-linejoin:round; stroke-width:4; stroke-opacity:1; fill:none\" points=\"\n",
       "  1862.56,270.066 2002.27,270.066 \n",
       "  \"/>\n",
       "<path clip-path=\"url(#clip580)\" d=\"M2044.46 265.356 L2044.46 251.328 L2048.72 251.328 L2048.72 287.346 L2044.46 287.346 L2044.46 283.457 Q2043.12 285.772 2041.06 286.906 Q2039.02 288.018 2036.15 288.018 Q2031.45 288.018 2028.49 284.268 Q2025.55 280.518 2025.55 274.407 Q2025.55 268.295 2028.49 264.545 Q2031.45 260.795 2036.15 260.795 Q2039.02 260.795 2041.06 261.93 Q2043.12 263.041 2044.46 265.356 M2029.95 274.407 Q2029.95 279.106 2031.87 281.791 Q2033.81 284.453 2037.19 284.453 Q2040.57 284.453 2042.52 281.791 Q2044.46 279.106 2044.46 274.407 Q2044.46 269.707 2042.52 267.045 Q2040.57 264.36 2037.19 264.36 Q2033.81 264.36 2031.87 267.045 Q2029.95 269.707 2029.95 274.407 Z\" fill=\"#000000\" fill-rule=\"evenodd\" fill-opacity=\"1\" /><path clip-path=\"url(#clip580)\" d=\"M2057.49 261.42 L2061.75 261.42 L2061.75 287.346 L2057.49 287.346 L2057.49 261.42 M2057.49 251.328 L2061.75 251.328 L2061.75 256.721 L2057.49 256.721 L2057.49 251.328 Z\" fill=\"#000000\" fill-rule=\"evenodd\" fill-opacity=\"1\" /><path clip-path=\"url(#clip580)\" d=\"M2083.79 251.328 L2083.79 254.87 L2079.72 254.87 Q2077.43 254.87 2076.52 255.796 Q2075.64 256.721 2075.64 259.129 L2075.64 261.42 L2082.66 261.42 L2082.66 264.731 L2075.64 264.731 L2075.64 287.346 L2071.36 287.346 L2071.36 264.731 L2067.29 264.731 L2067.29 261.42 L2071.36 261.42 L2071.36 259.615 Q2071.36 255.286 2073.37 253.319 Q2075.39 251.328 2079.76 251.328 L2083.79 251.328 Z\" fill=\"#000000\" fill-rule=\"evenodd\" fill-opacity=\"1\" /><path clip-path=\"url(#clip580)\" d=\"M2100.48 251.328 L2100.48 254.87 L2096.41 254.87 Q2094.11 254.87 2093.21 255.796 Q2092.33 256.721 2092.33 259.129 L2092.33 261.42 L2099.35 261.42 L2099.35 264.731 L2092.33 264.731 L2092.33 287.346 L2088.05 287.346 L2088.05 264.731 L2083.98 264.731 L2083.98 261.42 L2088.05 261.42 L2088.05 259.615 Q2088.05 255.286 2090.06 253.319 Q2092.08 251.328 2096.45 251.328 L2100.48 251.328 Z\" fill=\"#000000\" fill-rule=\"evenodd\" fill-opacity=\"1\" /><path clip-path=\"url(#clip580)\" d=\"M2126.22 273.319 L2126.22 275.402 L2106.64 275.402 Q2106.92 279.8 2109.28 282.115 Q2111.66 284.406 2115.9 284.406 Q2118.35 284.406 2120.64 283.805 Q2122.96 283.203 2125.23 281.999 L2125.23 286.027 Q2122.93 286.999 2120.53 287.508 Q2118.12 288.018 2115.64 288.018 Q2109.44 288.018 2105.8 284.406 Q2102.19 280.795 2102.19 274.638 Q2102.19 268.272 2105.62 264.545 Q2109.07 260.795 2114.9 260.795 Q2120.13 260.795 2123.17 264.175 Q2126.22 267.532 2126.22 273.319 M2121.96 272.069 Q2121.92 268.573 2119.99 266.49 Q2118.1 264.407 2114.95 264.407 Q2111.38 264.407 2109.23 266.42 Q2107.1 268.434 2106.78 272.092 L2121.96 272.069 Z\" fill=\"#000000\" fill-rule=\"evenodd\" fill-opacity=\"1\" /><path clip-path=\"url(#clip580)\" d=\"M2135.76 274.407 Q2135.76 279.106 2137.68 281.791 Q2139.62 284.453 2143 284.453 Q2146.38 284.453 2148.33 281.791 Q2150.27 279.106 2150.27 274.407 Q2150.27 269.707 2148.33 267.045 Q2146.38 264.36 2143 264.36 Q2139.62 264.36 2137.68 267.045 Q2135.76 269.707 2135.76 274.407 M2150.27 283.457 Q2148.93 285.772 2146.87 286.906 Q2144.83 288.018 2141.96 288.018 Q2137.26 288.018 2134.3 284.268 Q2131.36 280.518 2131.36 274.407 Q2131.36 268.295 2134.3 264.545 Q2137.26 260.795 2141.96 260.795 Q2144.83 260.795 2146.87 261.93 Q2148.93 263.041 2150.27 265.356 L2150.27 261.42 L2154.53 261.42 L2154.53 297.207 L2150.27 297.207 L2150.27 283.457 Z\" fill=\"#000000\" fill-rule=\"evenodd\" fill-opacity=\"1\" /><path clip-path=\"url(#clip580)\" d=\"M2194.9 262.184 L2194.9 266.212 Q2193.1 265.286 2191.15 264.823 Q2189.21 264.36 2187.12 264.36 Q2183.95 264.36 2182.36 265.333 Q2180.78 266.305 2180.78 268.249 Q2180.78 269.731 2181.92 270.587 Q2183.05 271.42 2186.48 272.184 L2187.93 272.508 Q2192.47 273.481 2194.37 275.263 Q2196.29 277.022 2196.29 280.194 Q2196.29 283.805 2193.42 285.911 Q2190.57 288.018 2185.57 288.018 Q2183.49 288.018 2181.22 287.601 Q2178.98 287.207 2176.48 286.397 L2176.48 281.999 Q2178.84 283.226 2181.13 283.851 Q2183.42 284.453 2185.67 284.453 Q2188.67 284.453 2190.29 283.434 Q2191.92 282.393 2191.92 280.518 Q2191.92 278.782 2190.73 277.856 Q2189.58 276.93 2185.62 276.073 L2184.14 275.726 Q2180.18 274.893 2178.42 273.18 Q2176.66 271.444 2176.66 268.434 Q2176.66 264.777 2179.25 262.786 Q2181.85 260.795 2186.61 260.795 Q2188.98 260.795 2191.06 261.143 Q2193.14 261.49 2194.9 262.184 Z\" fill=\"#000000\" fill-rule=\"evenodd\" fill-opacity=\"1\" /><path clip-path=\"url(#clip580)\" d=\"M2213.12 264.407 Q2209.69 264.407 2207.7 267.092 Q2205.71 269.754 2205.71 274.407 Q2205.71 279.059 2207.68 281.744 Q2209.67 284.406 2213.12 284.406 Q2216.52 284.406 2218.51 281.721 Q2220.5 279.036 2220.5 274.407 Q2220.5 269.8 2218.51 267.115 Q2216.52 264.407 2213.12 264.407 M2213.12 260.795 Q2218.67 260.795 2221.85 264.407 Q2225.02 268.018 2225.02 274.407 Q2225.02 280.772 2221.85 284.406 Q2218.67 288.018 2213.12 288.018 Q2207.54 288.018 2204.37 284.406 Q2201.22 280.772 2201.22 274.407 Q2201.22 268.018 2204.37 264.407 Q2207.54 260.795 2213.12 260.795 Z\" fill=\"#000000\" fill-rule=\"evenodd\" fill-opacity=\"1\" /><path clip-path=\"url(#clip580)\" d=\"M2232.08 251.328 L2236.34 251.328 L2236.34 287.346 L2232.08 287.346 L2232.08 251.328 Z\" fill=\"#000000\" fill-rule=\"evenodd\" fill-opacity=\"1\" /></svg>\n"
      ]
     },
     "execution_count": 69,
     "metadata": {},
     "output_type": "execute_result"
    }
   ],
   "source": [
    "freq = 5e5\n",
    "omega = 2*pi*freq\n",
    "phase = -pi/2\n",
    "\n",
    "T = 1e-5\n",
    "\n",
    "vin_step(t) = if t > (T/2)\n",
    "    1\n",
    "else\n",
    "    0\n",
    "end\n",
    "\n",
    "vin_sin(t) = cos(omega*t + phase)\n",
    "\n",
    "R = 1000 #Ohms\n",
    "C = 1e-9 # F\n",
    "\n",
    "f(v, params, t) = 1/(R*C) * (vin(t) - v)\n",
    "\n",
    "v0 = 0\n",
    "tspan = (0.0, T)\n",
    "\n",
    "prob = ODEProblem(f, v0, tspan)\n",
    "sol = solve(prob, reltol=1e-8, abstol=1e-8)\n",
    "\n",
    "plot(sol.t, vin.(sol.t), label=\"drive\",title=\"Driven RC Circuit\",\n",
    "     xaxis=\"time - t [s]\",yaxis=\"Voltage - v [V]\")\n",
    "\n",
    "plot!(sol,linewidth=3, label=\"diffeq sol\")"
   ]
  },
  {
   "cell_type": "markdown",
   "metadata": {},
   "source": [
    "### Analytical Solution\n",
    "\n",
    "<!---\n",
    "$$\n",
    "i_c = \\exp \\left (\\dfrac{-t}{RC} \\right ) \\left ( \\dfrac{V}{R} \\cos \\theta - \n",
    "\\dfrac{V}{\\sqrt{R^2 + \\left ( \\dfrac{1}{\\omega C}\\right )^2 }} \\cos \\left ( \\theta + \\tan^{-1} \\left ( \\dfrac{1}{\\omega R C} \\right ) \\right ) \\right ) + \n",
    "\\dfrac{V}{\\sqrt{R^2 + \\left ( \\dfrac{1}{\\omega C}\\right )^2 }} \\cos \\left ( \\omega t + \\theta + \\tan^{-1} \\left ( \\dfrac{1}{\\omega R C} \\right ) \\right )\n",
    "$$\n",
    "--->\n",
    "\n",
    "$\\phi = \\theta + \\tan^{-1} \\left ( \\dfrac{1}{\\omega R C} \\right ), \\;\\;\\; \\Gamma = \\dfrac{V}{\\sqrt{R^2 + \\left ( \\dfrac{1}{\\omega C}\\right )^2 }}$\n",
    "\n",
    "$$\n",
    "i_c =  \\left ( \\dfrac{V}{R} \\cos \\theta - \n",
    "\\Gamma \\cos \\phi \\right ) \\exp \\left (\\dfrac{-t}{RC} \\right ) + \n",
    "\\Gamma \\cos \\left ( \\omega t + \\phi \\right )\n",
    "$$"
   ]
  },
  {
   "cell_type": "code",
   "execution_count": null,
   "metadata": {},
   "outputs": [],
   "source": [
    "\n",
    "\n",
    "function current(t)\n",
    "    \n",
    "    V = 1\n",
    "    \n",
    "    scaling = V / sqrt(R^2 + (1/(omega * C)^2))\n",
    "    phase_term = atan(1/(omega * C * R))\n",
    "    \n",
    "    exparg = exp(-t/(R*C))\n",
    "    \n",
    "    arg1 = V/R * cos(phase)\n",
    "    arg2 = - scaling * cos(phase + phase_term )\n",
    "    \n",
    "    arg3 = scaling * cos(omega * t + phase + phase_term)\n",
    "   \n",
    "    return vin(t) - R*(exparg * (arg1 + arg2) + arg3)\n",
    "    \n",
    "end\n",
    "\n",
    "plot!(sol.t, current, lw=3,ls=:dash,label=\"analytical\")"
   ]
  }
 ],
 "metadata": {
  "colab": {
   "collapsed_sections": [],
   "include_colab_link": true,
   "name": "QNN DiffEq.jl Tutorial.ipynb",
   "provenance": []
  },
  "kernelspec": {
   "display_name": "Julia 1.7.2",
   "language": "julia",
   "name": "julia-1.7"
  },
  "language_info": {
   "file_extension": ".jl",
   "mimetype": "application/julia",
   "name": "julia",
   "version": "1.7.2"
  }
 },
 "nbformat": 4,
 "nbformat_minor": 2
}
