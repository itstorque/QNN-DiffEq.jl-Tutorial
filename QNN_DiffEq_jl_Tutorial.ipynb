{
  "nbformat": 4,
  "nbformat_minor": 0,
  "metadata": {
    "colab": {
      "name": "QNN DiffEq.jl Tutorial.ipynb",
      "provenance": [],
      "collapsed_sections": [],
      "include_colab_link": true
    },
    "kernelspec": {
      "display_name": "Julia",
      "language": "julia",
      "name": "julia"
    },
    "language_info": {
      "file_extension": ".jl",
      "mimetype": "application/julia",
      "name": "julia"
    }
  },
  "cells": [
    {
      "cell_type": "markdown",
      "metadata": {
        "id": "view-in-github",
        "colab_type": "text"
      },
      "source": [
        "<a href=\"https://colab.research.google.com/github/tareqdandachi/QNN-DiffEq.jl-Tutorial/blob/main/QNN_DiffEq_jl_Tutorial.ipynb\" target=\"_parent\"><img src=\"https://colab.research.google.com/assets/colab-badge.svg\" alt=\"Open In Colab\"/></a>"
      ]
    },
    {
      "cell_type": "markdown",
      "source": [
        "### QNN Tutorial\n",
        "# Solving Differential Equations Efficiently in Julia using `DifferentialEquations.jl`\n",
        "\n",
        "In this tutorial, we will be simulating an RCSJ model of a superconducting Josephson Junction using Julia and applying different levels of optimization.\n",
        "\n",
        "If you have your an already intalled interactive notebook with Julia, feel free to use it and skip to the Tutorial section (you might want to check that you have all the packages listed in the setup section's intro). Otherwise, if you are using Google Colab, follow the \"Setting Up Julia On Colab\" section."
      ],
      "metadata": {
        "id": "oap0eJ3vwDJ1"
      }
    },
    {
      "cell_type": "markdown",
      "source": [
        "# Notes on indexing\n",
        "\n",
        "Julia uses one indexing"
      ],
      "metadata": {
        "id": "144MSSanTpF1"
      }
    },
    {
      "cell_type": "markdown",
      "metadata": {
        "id": "tQ1r1bbb0yBv"
      },
      "source": [
        "<img src=\"https://github.com/JuliaLang/julia-logo-graphics/raw/master/images/julia-logo-color.png\" height=\"50\" />\n",
        "\n",
        "#  _Setting Up Julia On Colab_\n",
        "\n",
        "To follow with this tutorial, you need to use a julia kernel. If you are using Google Colab, which defaults to python, follow the setup instructions below which should take \\<15 mins to setup julia."
      ]
    },
    {
      "cell_type": "markdown",
      "source": [
        "We will be using the following packages for this tutorial:\n",
        "- BenchmarkTools\n",
        "- Plots\n",
        "- DifferentialEquations\n",
        "- LinearAlgebra\n",
        "- StaticKernels\n",
        "- LoopVectorization"
      ],
      "metadata": {
        "id": "8z4q8d5IzWT2"
      }
    },
    {
      "cell_type": "markdown",
      "source": [
        "### Step 1: Run this following cell"
      ],
      "metadata": {
        "id": "fjCGwDKcvGS3"
      }
    },
    {
      "cell_type": "code",
      "metadata": {
        "id": "GIeFXS0F0zww",
        "colab": {
          "base_uri": "https://localhost:8080/"
        },
        "outputId": "f26583fc-e0ac-44f1-a7a0-0c3f6d3bf4e9"
      },
      "source": [
        "%%shell\n",
        "set -e\n",
        "\n",
        "#---------------------------------------------------#\n",
        "JULIA_VERSION=\"1.7.1\" # any version ≥ 0.7.0\n",
        "JULIA_PACKAGES=\"IJulia BenchmarkTools Plots DifferentialEquations LinearAlgebra StaticKernels LoopVectorization\"\n",
        "JULIA_PACKAGES_IF_GPU=\"CUDA\" # or CuArrays for older Julia versions\n",
        "JULIA_NUM_THREADS=2\n",
        "#---------------------------------------------------#\n",
        "\n",
        "if [ -n \"$COLAB_GPU\" ] && [ -z `which julia` ]; then\n",
        "  # Install Julia\n",
        "  JULIA_VER=`cut -d '.' -f -2 <<< \"$JULIA_VERSION\"`\n",
        "  echo \"Installing Julia $JULIA_VERSION on the current Colab Runtime...\"\n",
        "  BASE_URL=\"https://julialang-s3.julialang.org/bin/linux/x64\"\n",
        "  URL=\"$BASE_URL/$JULIA_VER/julia-$JULIA_VERSION-linux-x86_64.tar.gz\"\n",
        "  wget -nv $URL -O /tmp/julia.tar.gz # -nv means \"not verbose\"\n",
        "  tar -x -f /tmp/julia.tar.gz -C /usr/local --strip-components 1\n",
        "  rm /tmp/julia.tar.gz\n",
        "\n",
        "  # Install Packages\n",
        "  if [ \"$COLAB_GPU\" = \"1\" ]; then\n",
        "      JULIA_PACKAGES=\"$JULIA_PACKAGES $JULIA_PACKAGES_IF_GPU\"\n",
        "  fi\n",
        "  for PKG in `echo $JULIA_PACKAGES`; do\n",
        "    echo \"Installing Julia package $PKG...\"\n",
        "    julia -e 'using Pkg; pkg\"add '$PKG'; precompile;\"' &> /dev/null\n",
        "  done\n",
        "\n",
        "  # Install kernel and rename it to \"julia\"\n",
        "  echo \"Installing IJulia kernel...\"\n",
        "  julia -e 'using IJulia; IJulia.installkernel(\"julia\", env=Dict(\n",
        "      \"JULIA_NUM_THREADS\"=>\"'\"$JULIA_NUM_THREADS\"'\"))'\n",
        "  KERNEL_DIR=`julia -e \"using IJulia; print(IJulia.kerneldir())\"`\n",
        "  KERNEL_NAME=`ls -d \"$KERNEL_DIR\"/julia*`\n",
        "  mv -f $KERNEL_NAME \"$KERNEL_DIR\"/julia  \n",
        "\n",
        "  echo ''\n",
        "  echo \"Successfully installed `julia -v`!\"\n",
        "  echo \"Reload this page (press Ctrl+R, ⌘+R, or the F5 key) then\"\n",
        "fi"
      ],
      "execution_count": null,
      "outputs": [
        {
          "output_type": "stream",
          "name": "stdout",
          "text": [
            "Installing Julia 1.7.1 on the current Colab Runtime...\n",
            "2022-07-07 18:56:44 URL:https://storage.googleapis.com/julialang2/bin/linux/x64/1.7/julia-1.7.1-linux-x86_64.tar.gz [123374573/123374573] -> \"/tmp/julia.tar.gz\" [1]\n",
            "Installing Julia package IJulia...\n",
            "Installing Julia package BenchmarkTools...\n",
            "Installing Julia package Plots...\n",
            "Installing Julia package DifferentialEquations...\n"
          ]
        }
      ]
    },
    {
      "cell_type": "markdown",
      "source": [
        "### Step 2: Hit refresh on your browser\n",
        "\n",
        "Refreshing the page will reinitialize your instance and connect to a Julia kernel instead of Python. If you want to use a GPU, this is where you would add GPU acceleration under `Runtime` > `Change Runtime Type`"
      ],
      "metadata": {
        "id": "Pk7y2-7uvMbT"
      }
    },
    {
      "cell_type": "markdown",
      "source": [
        "### Step 3: Verify the julia installation works"
      ],
      "metadata": {
        "id": "BCErpOS0vsgn"
      }
    },
    {
      "cell_type": "code",
      "metadata": {
        "id": "EEzvvzCl1i0F",
        "colab": {
          "base_uri": "https://localhost:8080/"
        },
        "outputId": "7f8d78cc-6ce7-4f34-f5bd-7894d35aa994"
      },
      "source": [
        "versioninfo()"
      ],
      "execution_count": 1,
      "outputs": [
        {
          "output_type": "stream",
          "name": "stdout",
          "text": [
            "Julia Version 1.7.1\n",
            "Commit ac5cc99908 (2021-12-22 19:35 UTC)\n",
            "Platform Info:\n",
            "  OS: Linux (x86_64-pc-linux-gnu)\n",
            "  CPU: Intel(R) Xeon(R) CPU @ 2.20GHz\n",
            "  WORD_SIZE: 64\n",
            "  LIBM: libopenlibm\n",
            "  LLVM: libLLVM-12.0.1 (ORCJIT, broadwell)\n",
            "Environment:\n",
            "  JULIA_NUM_THREADS = 2\n"
          ]
        }
      ]
    },
    {
      "cell_type": "markdown",
      "metadata": {
        "id": "-OS3Ac017T1i"
      },
      "source": [
        "# Tutorial\n"
      ]
    },
    {
      "cell_type": "markdown",
      "source": [
        "We will be modelling a Josephson Junction using the RCSJ model to recreate a JJ Washboard Potential. Our system can be described by this second order differential equation:\n",
        "\n",
        "\\\n",
        "\n",
        "$$\\dfrac{\\Phi_0}{2\\pi}C\\ddot\\phi+\\dfrac{\\Phi_0}{2\\pi R} \\dot\\phi+I_c \\sin\\phi=\\dfrac{\\Phi_0}{2\\pi R} I$$\n",
        "\n",
        "\\\n",
        "Our system has a mechanical analog of a force driven pendulum:\n",
        "\n",
        "\\\n",
        "\n",
        "$$ml^2\\ddot\\phi+\\Gamma\\dot\\phi+mgl\\sin\\phi=\\tau_{applied}$$\n",
        "\n",
        "\\\n",
        "\n",
        "Where $ml^2\\equiv\\dfrac{\\Phi_0}{2\\pi}C$, $\\;\\;\\Gamma\\equiv\\dfrac{\\Phi_0}{2\\pi R}$, $\\;\\; mg=I_c$, $\\;\\; l=1$ and $\\tau_{\\text{applied}} = F_{\\text{drive}}\\cdot l\\equiv\\dfrac{\\Phi_0}{2\\pi R} I$\n",
        "\n",
        "\\\n",
        "*NOTE: this work is based on a MATLAB visualization made for 6.s079 here [tareqdandachi/RCSJ-Washboard-Potential](https://github.com/tareqdandachi/RCSJ-Washboard-Potential).*"
      ],
      "metadata": {
        "id": "Ce8EXCo-2yDV"
      }
    },
    {
      "cell_type": "markdown",
      "source": [
        "### Importing packages"
      ],
      "metadata": {
        "id": "6cvTxtBaxel0"
      }
    },
    {
      "cell_type": "code",
      "source": [
        "using BenchmarkTools\n",
        "using Plots\n",
        "using DifferentialEquations\n",
        "using LinearAlgebra"
      ],
      "metadata": {
        "id": "YjM_qq54lCcs"
      },
      "execution_count": 2,
      "outputs": []
    },
    {
      "cell_type": "markdown",
      "source": [
        "### Start out with linearized near zero since phase driven to 0. Ideal JJ eq\n",
        "\n",
        "$$v(t) = \\dfrac{\\Phi_0}{2\\pi I_c}\\dfrac{di}{dt} + iR_N$$\n",
        "\n",
        "hmmm...\n",
        "\n",
        "instead lets do RC circuit first\n",
        "\n",
        "You have an RC circuit, equation is:\n",
        "\n",
        "$$ RC \\dfrac{dv_c}{dt} + v_c = v_{in}(t) $$\n",
        "\n",
        "Simple scalar first-order diff eq.\n",
        "\n",
        "let $f(v) = \\dfrac{dv_c}{dt} = \\dfrac{1}{RC} \\left( v_{in}(t) - v_c \\right)$"
      ],
      "metadata": {
        "id": "sFC0RVkI5yKR"
      }
    },
    {
      "cell_type": "code",
      "source": [
        "omega = 1\n",
        "\n",
        "vin(t) = sin(2*pi*omega*t)\n",
        "\n",
        "R = 100 #Ohms\n",
        "C = 1e-9 # F\n",
        "\n",
        "f(v, params, t) = 1/(R*C) * (vin(t) - v)\n",
        "\n",
        "v0 = 1/2\n",
        "tspan = (0.0,10.0)\n",
        "\n",
        "prob = ODEProblem(f,v0,tspan)\n",
        "sol = solve(prob, Tsit5(), reltol=1e-8, abstol=1e-8)\n",
        "\n",
        "plot(sol,linewidth=5,title=\"Solution to the linear ODE with a thick line\",\n",
        "     xaxis=\"Time (t)\",yaxis=\"u(t) (in μm)\",label=\"My Thick Line!\") # legend=false\n",
        "plot!(sol.t, t->(exp(-t/(R*C)) + 1/sqrt(R^2 + (1/(omega * C))^2) * cos(omega*t + atan(1/(omega*R*C)))), lw=3,ls=:dash,label=\"True Solution!\")"
      ],
      "metadata": {
        "id": "8iYwbK_HxhrR",
        "colab": {
          "base_uri": "https://localhost:8080/",
          "height": 131
        },
        "outputId": "5a6947fc-1d9f-4842-e661-3084a52d98d4"
      },
      "execution_count": 4,
      "outputs": [
        {
          "output_type": "error",
          "ename": "SyntaxError",
          "evalue": "ignored",
          "traceback": [
            "\u001b[0;36m  File \u001b[0;32m\"<ipython-input-4-e581aa1e447a>\"\u001b[0;36m, line \u001b[0;32m19\u001b[0m\n\u001b[0;31m    plot!(sol.t, t->(exp(-t/(R*C)) + 1/sqrt(R^2 + (1/(omega * C))^2) * cos(omega*t)), lw=3,ls=:dash,label=\"True Solution!\")\u001b[0m\n\u001b[0m        ^\u001b[0m\n\u001b[0;31mSyntaxError\u001b[0m\u001b[0;31m:\u001b[0m invalid syntax\n"
          ]
        }
      ]
    },
    {
      "cell_type": "code",
      "source": [
        ""
      ],
      "metadata": {
        "id": "5xggdD-oS1td"
      },
      "execution_count": null,
      "outputs": []
    }
  ]
}